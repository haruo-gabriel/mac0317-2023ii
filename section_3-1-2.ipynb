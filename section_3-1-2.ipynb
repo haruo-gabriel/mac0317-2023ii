{
 "cells": [
  {
   "cell_type": "markdown",
   "metadata": {
    "slideshow": {
     "slide_type": "slide"
    }
   },
   "source": [
    "# MAC0317/MAC5920\n",
    "## Introdução ao Processamento de Sinais Digitais\n",
    "### Capítulo 3: A Transformada Discreta do Cosseno"
   ]
  },
  {
   "cell_type": "markdown",
   "metadata": {
    "slideshow": {
     "slide_type": "slide"
    }
   },
   "source": [
    "### Seção 3.1: Motivação para a DCT - Compressão de sinais\n",
    "\n",
    "Muitos dos arquivos que utilizamos passam por algum tipo de compactação: .jpg, .mp3, .avi, .mpeg, .mkv. \n",
    "\n",
    "Estratégia simples de compactação:\n",
    "\n",
    "- **limiarização**: Definir um parâmetro $c\\in [0,1]$ e preservar apenas características espectrais com magnitude relativa $> c$ , ou seja, se $\\hat{A}$ é o espectro de uma imagem, então preservamos $\\hat{A}_{k,l}$ apenas se $|\\hat{A}_{k,l}| \\geq c\\max\\limits_{p,q} |\\hat{A}_{p,q}|$."
   ]
  },
  {
   "cell_type": "markdown",
   "metadata": {
    "slideshow": {
     "slide_type": "subslide"
    }
   },
   "source": [
    "- **codificação** de modo a evitar a representação explícita das componentes espectrais suprimidas. Por exemplo:\n",
    "\n",
    "    - *run length encoding* representa sequências de valores iguais da forma $N\\times$ valor;\n",
    "\n",
    "    - *codificação de Huffman* cria árvores associadas a representações binárias baseadas em frequência de observação dos símbolos."
   ]
  },
  {
   "cell_type": "markdown",
   "metadata": {
    "slideshow": {
     "slide_type": "slide"
    }
   },
   "source": [
    "### Seção 3.2: Esquema de compressão e medidas de compressão\n",
    "\n",
    "Começamos considerando o esquema de compressão:\n",
    "\n",
    "$$\\genfrac{}{}{0pt}{0}{\\fbox{$x$}}{\\text{original}}\n",
    "\\genfrac{}{}{0pt}{0}{T}{\\longrightarrow}\n",
    "\\genfrac{}{}{0pt}{0}{\\fbox{$Tx$}}{\\text{transformada}}\n",
    "\\genfrac{}{}{0pt}{0}{q}{\\longrightarrow}\n",
    "\\genfrac{}{}{0pt}{0}{\\fbox{$q(Tx)$}}{\\text{quantizada}}\n",
    "\\genfrac{}{}{0pt}{0}{C}{\\longrightarrow}\n",
    "\\genfrac{}{}{0pt}{0}{\\fbox{$y=C(q(Tx))$}}{\\text{comprimida}}$$\n",
    "\n",
    "e descompressão:\n",
    "\n",
    "$$\\begin{array}{ll}\\genfrac{}{}{0pt}{0}{\\fbox{$y$}}{\\text{comprimida}}\n",
    "&\\genfrac{}{}{0pt}{0}{C^{-1}}{\\longrightarrow}\n",
    "\\genfrac{}{}{0pt}{0}{\\fbox{$C^{-1}(y)=q(Tx)$}}{\\text{quantizada}}\n",
    "\\genfrac{}{}{0pt}{0}{}{\\longrightarrow}\\\\\n",
    "&\\genfrac{}{}{0pt}{0}{\\tilde{q}^{-1}}{\\longrightarrow}\n",
    "\\genfrac{}{}{0pt}{0}{\\fbox{$\\tilde{q}^{-1}(q(Tx))$}}{\\text{dequantizada}}\n",
    "\\genfrac{}{}{0pt}{0}{T^{-1}}{\\longrightarrow}\n",
    "\\genfrac{}{}{0pt}{0}{\\fbox{$\\tilde{x}=T^{-1}(\\tilde{q}^{-1}(q(Tx)))$}}{\\text{descomprimida}}\n",
    "\\end{array}$$"
   ]
  }
 ],
 "metadata": {
  "celltoolbar": "Slideshow",
  "kernelspec": {
   "display_name": "Python 3",
   "language": "python",
   "name": "python3"
  },
  "language_info": {
   "codemirror_mode": {
    "name": "ipython",
    "version": 3
   },
   "file_extension": ".py",
   "mimetype": "text/x-python",
   "name": "python",
   "nbconvert_exporter": "python",
   "pygments_lexer": "ipython3",
   "version": "3.7.11"
  }
 },
 "nbformat": 4,
 "nbformat_minor": 2
}
