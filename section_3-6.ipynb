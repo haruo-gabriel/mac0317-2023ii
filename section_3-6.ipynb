{
 "cells": [
  {
   "cell_type": "markdown",
   "metadata": {
    "slideshow": {
     "slide_type": "slide"
    }
   },
   "source": [
    "# MAC0317/MAC5920\n",
    "## Introdução ao Processamento de Sinais Digitais\n",
    "### Seção 3.6: A DCT 2D"
   ]
  },
  {
   "cell_type": "code",
   "execution_count": null,
   "metadata": {
    "slideshow": {
     "slide_type": "skip"
    }
   },
   "outputs": [],
   "source": [
    "import math as m\n",
    "import numpy as np\n",
    "from imageio import imread\n",
    "import matplotlib.pyplot as plt\n",
    "from urllib.request import urlopen"
   ]
  },
  {
   "cell_type": "markdown",
   "metadata": {
    "slideshow": {
     "slide_type": "slide"
    }
   },
   "source": [
    "### Motivações para a DCT bidimensional\n",
    "\n",
    "- permitir a compressão de imagens eliminando as descontinuidades de borda da DFT;\n",
    "- a ideia é usar o mesmo princípio de espelhamento do caso 1D, mas nos eixos $x$ e $y$;\n",
    "- podemos definir a transformada 2D usando a transformada 1D (DCT das linhas / DCT das colunas)"
   ]
  },
  {
   "cell_type": "code",
   "execution_count": null,
   "metadata": {
    "slideshow": {
     "slide_type": "skip"
    }
   },
   "outputs": [],
   "source": [
    "# função auxiliar: converte imagem colorida para cinza\n",
    "def rgb2gray(rgb):\n",
    "    fil = [0.299, 0.587, 0.144]\n",
    "    return np.dot(rgb, fil)\n",
    "def plota_imagem_espelhada():\n",
    "    # Carrega a imagem da internet e converte para nível de cinza\n",
    "    url = \"http://sutherncharm.files.wordpress.com/2009/09/double-ferris.jpg\"\n",
    "    M = rgb2gray(imread(urlopen(url).read()))\n",
    "    MM_upper = np.hstack((M, np.flip(M,1)))\n",
    "    MM = np.vstack((MM_upper, np.flip(MM_upper,0)))\n",
    "    plt.figure(figsize=(5,8)); plt.imshow(MM, cmap='gray')\n",
    "    plt.axis(\"off\")\n",
    "    plt.title(\"Figura 3.11: Reflexões da imagem da roda-gigante\")\n",
    "    plt.show()"
   ]
  },
  {
   "cell_type": "code",
   "execution_count": null,
   "metadata": {
    "slideshow": {
     "slide_type": "subslide"
    }
   },
   "outputs": [],
   "source": [
    "plota_imagem_espelhada()"
   ]
  },
  {
   "cell_type": "markdown",
   "metadata": {
    "slideshow": {
     "slide_type": "slide"
    }
   },
   "source": [
    "Considerando $DCT(x) = C_Nx$ e $IDCT(C) = C_N^T C$, podemos definir uma transformação em 2D, para uma matriz $A\\in M_{M\\times N}(\\mathbb{C})$ qualquer, assim:\n",
    "\n",
    "\\begin{equation*}\n",
    "\t\\hat{A} = DCT(A) = C_M AC_N^T (\\in M_{M\\times N}(\\mathbb{C}))\n",
    "\\end{equation*}\n",
    "\n",
    "cuja inversa será dada por\n",
    "\n",
    "\\begin{equation*}\n",
    "\tA = IDCT(\\hat{A}) = C_M^T \\hat{A} C_N\n",
    "\\end{equation*}"
   ]
  },
  {
   "cell_type": "markdown",
   "metadata": {
    "slideshow": {
     "slide_type": "subslide"
    }
   },
   "source": [
    "Lembrando dos coeficientes das matrizes $C_M$ e $C_N^T$, temos:\n",
    "\n",
    "\\begin{equation*}\n",
    "\t(C_M)_{k,m} = \\left\\{\\begin{array}{ll}\n",
    "\t\t\\sqrt{\\frac{1}{M}} & \\text{ se }k = 0 \\\\\n",
    "\t\t\\sqrt{\\frac{2}{M}}\\cos\\left(\\frac{\\pi k\\left(m + \\frac{1}{2}\\right)}{M}\\right) & \\text{ se } k = 1, 2, \\dots, M-1\n",
    "\t\\end{array}\\right.\n",
    "\\end{equation*}\n",
    "\n",
    "\\begin{equation*}\n",
    "\t(C_N)^T_{n,l} = \\left\\{\\begin{array}{ll}\n",
    "\t\t\\sqrt{\\frac{1}{N}} & \\text{ se }l = 0 \\\\\n",
    "\t\t\\sqrt{\\frac{2}{N}}\\cos\\left(\\frac{\\pi l\\left(n + \\frac{1}{2}\\right)}{N}\\right) & \\text{ se } l = 1, 2, \\dots, N-1\n",
    "\t\\end{array}\\right.\n",
    "\\end{equation*}"
   ]
  },
  {
   "cell_type": "markdown",
   "metadata": {
    "slideshow": {
     "slide_type": "subslide"
    }
   },
   "source": [
    "Assim\n",
    "\n",
    "\\begin{equation*}\n",
    "\t\\hat{A}_{k,l} = u_k v_l\\sum\\limits_{m = 0}^{M-1}\\sum\\limits_{n = 0}^{N-1} A_{mn}\\cos\\left(\\frac{\\pi k\\left(m + \\frac{1}{2}\\right)}{M}\\right)\\cos\\left(\\frac{\\pi l\\left(n + \\frac{1}{2}\\right)}{N}\\right)\n",
    "\\end{equation*}\n",
    "\n",
    "onde\n",
    "\n",
    "\\begin{equation*}\n",
    "\tu_k = \\left\\{\\begin{array}{ll}\n",
    "\t\t\\sqrt{\\frac{1}{M}} & \\text{ se } k = 0 \\\\\n",
    "\t\t\\sqrt{\\frac{2}{M}} & \\text{ se } k \\neq 0 \\\\\n",
    "\t\\end{array}\\right.\\quad\\quad\n",
    "    v_l = \\left\\{\\begin{array}{ll}\n",
    "\t\t\\sqrt{\\frac{1}{N}} & \\text{ se } l = 0 \\\\\n",
    "\t\t\\sqrt{\\frac{2}{N}} & \\text{ se } l \\neq 0 \\\\\n",
    "\t\\end{array}\\right.\n",
    "\\end{equation*}\n",
    "\n",
    "**Observação:** $A\\in \\mathcal{M}_{M\\times N}(\\mathbb{R}) \\Leftrightarrow \\hat{A}\\in \\mathcal{M}_{M\\times N}(\\mathbb{R})$."
   ]
  },
  {
   "cell_type": "markdown",
   "metadata": {
    "slideshow": {
     "slide_type": "slide"
    }
   },
   "source": [
    "## Formas básicas 2D para a DCT\n",
    "\n",
    "Note que é possível escrever\n",
    "\n",
    "$$\\hat{A}_{k,l} = \\left(A,\\mathcal{C}_{k,l}\\right)$$\n",
    "\n",
    "onde\n",
    "\n",
    "\\begin{equation*}\n",
    "\t\\left(\\mathcal{C}_{k,l}\\right)_{m,n} = u_k v_l\\cos\\left(\\frac{\\pi k\\left(m + \\frac{1}{2}\\right)}{M}\\right)\\cos\\left(\\frac{\\pi l\\left(n + \\frac{1}{2}\\right)}{N}\\right).\n",
    "\\end{equation*}\n",
    "\n",
    "Portanto, a DCT pode ser vista como a mudança de base da matriz $A$ para a base $\\{\\mathcal{C}_{k,l}\\mid k=0,\\ldots,M-1,\\quad l=0,\\ldots,N-1\\}$."
   ]
  },
  {
   "cell_type": "code",
   "execution_count": null,
   "metadata": {
    "slideshow": {
     "slide_type": "subslide"
    }
   },
   "outputs": [],
   "source": [
    "M=4;N=8; fig, ax = plt.subplots(M,N,figsize=(15,5))\n",
    "i = np.arange(0,M); j = np.arange(0,N); i, j = np.meshgrid(i,j,indexing='ij')\n",
    "for k in range(M):\n",
    "  for l in range(N):\n",
    "    f =  m.sqrt((1+(k>0))/M)*m.sqrt((1+(l>0))/N)*np.cos((m.pi/M)*k*(i+0.5))*np.cos((m.pi/N)*l*(j+0.5))\n",
    "    ax[k][l].imshow(f,cmap='gray',vmin=-m.sqrt(2/M)*m.sqrt(2/N),vmax=+m.sqrt(2/M)*m.sqrt(2/N));ax[k][l].axis(\"off\")\n",
    "    ax[k][l].set_title(r\"$\\mathcal{{C}}_{{{}{}}}$\".format(k,l))\n",
    "fig.suptitle(r'Formas de onda básicas para imagens {}×{}'.format(M,N), fontsize=16, y=1)\n",
    "plt.show()"
   ]
  }
 ],
 "metadata": {
  "celltoolbar": "Slideshow",
  "kernelspec": {
   "display_name": "Python 3",
   "language": "python",
   "name": "python3"
  },
  "language_info": {
   "codemirror_mode": {
    "name": "ipython",
    "version": 3
   },
   "file_extension": ".py",
   "mimetype": "text/x-python",
   "name": "python",
   "nbconvert_exporter": "python",
   "pygments_lexer": "ipython3",
   "version": "3.7.11"
  }
 },
 "nbformat": 4,
 "nbformat_minor": 2
}
