{
 "cells": [
  {
   "cell_type": "markdown",
   "metadata": {
    "slideshow": {
     "slide_type": "slide"
    }
   },
   "source": [
    "# MAC0317/MAC5920\n",
    "## Introdução ao Processamento de Sinais Digitais\n",
    "### Capítulo 2: A Transformada Discreta de Fourier"
   ]
  },
  {
   "cell_type": "markdown",
   "metadata": {
    "slideshow": {
     "slide_type": "slide"
    }
   },
   "source": [
    "# Seção 2.1: Visão geral do capítulo 2\n",
    "\n",
    "Nesse capítulo veremos a Transformada Discreta de Fourier (abreviada como DFT=*Discrete Fourier Transform*) e sua inversa IDFT (*Inverse Discrete Fourier Transform*). A origem dessa transformada está nas equações de mudança da base canônica para a base das exponenciais $E_k$: dado $x\\in\\mathbb{C}^N$ podemos escrever\n",
    "$$x = \\frac{1}{N}\\sum_{k=0}^{N-1}X_kE_k\\quad\\quad(IDFT)$$\n",
    "onde\n",
    "$$X_k = (x,E_k),\\ k=0,\\ldots,N-1\\quad\\quad(DFT).$$"
   ]
  },
  {
   "cell_type": "markdown",
   "metadata": {
    "slideshow": {
     "slide_type": "subslide"
    }
   },
   "source": [
    "$$\\newcommand{\\veq}{||}\\begin{array}{lcl}\n",
    "\\text{Tempo} (\\mathbb{C}^N) & & \\text{Frequência} (\\mathbb{C}^N)\\\\\\hline\n",
    "\\rule{0mm}{1mm}\\\\\n",
    "x & \\longrightarrow\\fbox{DFT}\\longrightarrow & X=DFT(x)\\\\\n",
    "\\veq & \\rule{0mm}{1mm} & \\veq\\\\\n",
    "x=IDFT(X) & \\longleftarrow\\fbox{IDFT}\\longleftarrow & X\\\\\n",
    "\\end{array}$$\n",
    "\n",
    "As duas representações $x\\in\\mathbb{C}^N$ e $X\\in\\mathbb{C}^N$, consideradas **equivalentes** no sentido de poderem ser obtidas uma a partir da outra, estão associadas a duas perspectivas associadas às expressões **Domínio do tempo** e **Domínio da frequência**."
   ]
  },
  {
   "cell_type": "markdown",
   "metadata": {
    "slideshow": {
     "slide_type": "slide"
    }
   },
   "source": [
    "# Seção 2.2: Domínios do tempo/espaço e da frequência (espectro)\n",
    "\n",
    "A representação mais usual do sinal, que é a forma de onda no caso de um sinal unidimensional, é entendida como uma perspectiva **temporal** do sinal, no sentido que cada amostra $x_n$ de um sinal $x=(x_0,\\ldots,x_{N-1})\\in\\mathbb{C}^N$ está associada a um instante específico $t=t_0+n\\Delta_t$, onde $t_0$ é o instante inicial e $\\Delta_t=\\frac{1}{R}$ é o intervalo de amostragem ($R$ aqui é a taxa de amostragem)."
   ]
  },
  {
   "cell_type": "markdown",
   "metadata": {
    "slideshow": {
     "slide_type": "subslide"
    }
   },
   "source": [
    "Em contrapartida, o sinal $X=DFT(x)$ corresponde a uma coleção de valores $X_k$ que participam da combinação linear $x = \\displaystyle\\frac{1}{N}\\sum_{k=0}^{N-1}X_kE_k$, onde cada $X_k$ é um *escalar* associado à forma básica de onda $E_k$, que como vimos é uma exponencial complexa de frequência $k$ (voltas completas no ciclo no intervalo $0\\le n<N$). Assim, cada componente do sinal $X$ está associado a uma componente **frequencial** na decomposição do sinal $x$ em formas básicas de onda exponenciais. Analogamente à decomposição que um prisma faz da luz branca em feixes de cores diferentes, o sinal $X$ é frequentemente denominado **espectro** de $x$."
   ]
  },
  {
   "cell_type": "markdown",
   "metadata": {
    "slideshow": {
     "slide_type": "subslide"
    }
   },
   "source": [
    "Os termos **domínio do tempo** e **domínio da frequência** designam portanto a interpretação associada aos *índices* do sinal:\n",
    "\n",
    "- $x$ é indexado por $n$ que representa o *tempo discretizado em amostras*, e \n",
    "\n",
    "- $X$ é indexado por $k$ que representa a *frequência discretizada em quantidade de voltas completas no intervalo $[0,N)$*."
   ]
  },
  {
   "cell_type": "markdown",
   "metadata": {
    "slideshow": {
     "slide_type": "slide"
    }
   },
   "source": [
    "No caso bidimensional, a representação mais usual é aquela das imagens, onde cada amostra $a_{i,j}$ de um sinal $A\\in\\mathcal{M}_{M,N}(\\mathbb{C})$ está associada a uma posição **espacial** $(x,y)=(x_0+i\\Delta_x,y_0+j\\Delta_y)$, onde $(x_0,y_0)$ é a coordenada do canto da imagem associado ao sistema de referência espacial, e $\\Delta_x,\\Delta_y$ são os intervalos de amostragem. Dizemos que $A$ está representada no *domínio do espaço* (embora o livro possa por vezes abusar da linguagem e usar a expressão *domínio do tempo* como sinônimo de *domínio original do sinal*)."
   ]
  },
  {
   "cell_type": "markdown",
   "metadata": {
    "slideshow": {
     "slide_type": "subslide"
    }
   },
   "source": [
    "Como veremos na seção 2.7, a DFT de uma imagem $A\\in\\mathcal{M}_{M,N}(\\mathbb{C})$ produz outra imagem $\\hat{A}\\in\\mathcal{M}_{M,N}(\\mathbb{C})$, cujos coeficientes $\\hat{A}_{k,l}$ estão associados à forma básica de onda exponencial bidimensional $\\mathcal{E}_{k,l}$, associada às frequências $k$ e $l$ ($k$ voltas completas no ciclo em relação ao índice das linhas no intervalo $0\\le i<M$ e $l$ voltas completas no ciclo em relação ao índice das colunas no intervalo $0\\le j<N$). Diremos então que $\\hat{A}$ está representada no *domínio da frequência*."
   ]
  },
  {
   "cell_type": "markdown",
   "metadata": {
    "slideshow": {
     "slide_type": "slide"
    }
   },
   "source": [
    "A motivação para passar sinais de um domínio para o outro se refere à facilidade com que certas operações são realizadas em cada domínio:\n",
    "\n",
    "- manipulações que envolvam diretamente os valores de amplitude $x_n$, como aplicar ajustes de volume, obter medidas de energia $\\|x\\|$ ou estimar localizações temporais/espaciais de fronteiras de eventos/objetos são geralmente muito mais fáceis de implementar no domínio original do sinal;\n",
    "\n",
    "- manipulações como remoção de ruído, estimação de frequências ou classificação de sinais frequentemente são mais fáceis de modelar e implementar no domínio da frequência, como veremos em exemplos ao longo do livro."
   ]
  }
 ],
 "metadata": {
  "celltoolbar": "Slideshow",
  "kernelspec": {
   "display_name": "Python 3",
   "language": "python",
   "name": "python3"
  },
  "language_info": {
   "codemirror_mode": {
    "name": "ipython",
    "version": 3
   },
   "file_extension": ".py",
   "mimetype": "text/x-python",
   "name": "python",
   "nbconvert_exporter": "python",
   "pygments_lexer": "ipython3",
   "version": "3.7.11"
  }
 },
 "nbformat": 4,
 "nbformat_minor": 2
}
