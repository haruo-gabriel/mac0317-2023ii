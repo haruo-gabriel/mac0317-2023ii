{
 "cells": [
  {
   "cell_type": "markdown",
   "metadata": {
    "slideshow": {
     "slide_type": "slide"
    }
   },
   "source": [
    "# MAC0317/MAC5920\n",
    "## Introdução ao Processamento de Sinais Digitais\n",
    "### Seção 2.5: Propriedades da DFT"
   ]
  },
  {
   "cell_type": "markdown",
   "metadata": {
    "slideshow": {
     "slide_type": "slide"
    }
   },
   "source": [
    "## Seção 2.5.1: Formulação matricial e linearidade\n",
    "\n",
    "Vamos mostrar que DFT(x) pode ser expressa como um produto matriz-vetor da forma $DFT(x)=Fx$. Para isso considere um exemplo em $\\mathbb{C}^4$. Temos\n",
    "$$x=\\left[\\begin{array}{c}x_0\\\\x_1\\\\x_2\\\\x_3\\end{array}\\right]\\quad\n",
    "\\text{e}\\quad\n",
    "X_k = (x,E_k) = \\sum_{n=0}^3x_ne^{-i2\\pi kn/N} = E_k^*x,$$\n",
    "onde $E_k^*$ é a transposta conjugada do vetor $E_k$:\n",
    "$$E_k^* = \\left[ \\overline{(E_k)_0}\\quad \\overline{(E_k)_1}\\quad \\overline{(E_k)_2}\\quad \\overline{(E_k)_3} \\right].$$"
   ]
  },
  {
   "cell_type": "markdown",
   "metadata": {
    "slideshow": {
     "slide_type": "subslide"
    }
   },
   "source": [
    "Portanto\n",
    "$$X_0 = [ \\overline{1}\\quad \\overline{1}\\quad \\overline{1}\\quad \\overline{1} ]\\left[\\begin{array}{c}x_0\\\\x_1\\\\x_2\\\\x_3\\end{array}\\right]\\quad\n",
    "X_1 = [ \\overline{1}\\quad \\overline{i}\\quad \\overline{-1}\\quad \\overline{-i} ]\\left[\\begin{array}{c}x_0\\\\x_1\\\\x_2\\\\x_3\\end{array}\\right]$$\n",
    "\n",
    "$$X_2 = [ \\overline{1}\\quad \\overline{-1}\\quad \\overline{1}\\quad \\overline{-1} ]\\left[\\begin{array}{c}x_0\\\\x_1\\\\x_2\\\\x_3\\end{array}\\right]\\quad\n",
    "X_3 = [ \\overline{1}\\quad \\overline{-i}\\quad \\overline{-1}\\quad \\overline{i} ]\\left[\\begin{array}{c}x_0\\\\x_1\\\\x_2\\\\x_3\\end{array}\\right]$$"
   ]
  },
  {
   "cell_type": "markdown",
   "metadata": {
    "slideshow": {
     "slide_type": "subslide"
    }
   },
   "source": [
    "Em forma matricial\n",
    "$$\\left[\\begin{array}{c}X_0\\\\X_1\\\\X_2\\\\X_3\\end{array}\\right] =\n",
    "\\left[\\begin{array}{rrrr}\n",
    "1&1&1&1\\\\\n",
    "1&-i&-1&i\\\\\n",
    "1&-1&1&-1\\\\\n",
    "1&i&-1&-i\n",
    "\\end{array}\\right]\\left[\\begin{array}{c}x_0\\\\x_1\\\\x_2\\\\x_3\\end{array}\\right]$$"
   ]
  },
  {
   "cell_type": "markdown",
   "metadata": {
    "slideshow": {
     "slide_type": "slide"
    }
   },
   "source": [
    "Observe que a matriz \n",
    "$$F=\\left[\\begin{array}{rrrr}\n",
    "1&1&1&1\\\\\n",
    "1&-i&-1&i\\\\\n",
    "1&-1&1&-1\\\\\n",
    "1&i&-1&-i\n",
    "\\end{array}\\right]$$\n",
    "tem as linhas indexadas por $k$ (a frequência associada ao coeficiente $X_k$) e as colunas indexadas por $n$ (o índice da amostra que multiplicará o $x_n$), e assim a entrada associada à posição $(k,n)$ será\n",
    "$$F_{k,n} = (E_k^*)_n = \\overline{(E_k)_n} = e^{-i2\\pi kn/N}.$$"
   ]
  },
  {
   "cell_type": "markdown",
   "metadata": {
    "slideshow": {
     "slide_type": "slide"
    }
   },
   "source": [
    "### Teorema 2.1\n",
    "Seja $x\\in\\mathbb{C}^N$ e $X=DFT(x)$. Então $X=Fx$ onde $F\\in\\mathbb{C}^{N\\times N}$ tal que $F_{k,n} = e^{-i2\\pi kn/N}$.\n",
    "\n",
    "Denotando por $z=e^{-i2\\pi/N}$, temos $F_{k,n} = e^{-i2\\pi kn/N} = z^{kn}$, e a matriz $F$ será:\n",
    "$$\\left[\\begin{array}{llllll}\n",
    "1&1&1&1&\\cdots&1\\\\\n",
    "1&z&z^2&z^3&\\cdots&z^{N-1}\\\\\n",
    "1&z^2&z^4&z^6&\\cdots&z^{2(N-1)}\\\\\n",
    "1&z^3&z^6&z^9&\\cdots&z^{3(N-1)}\\\\\n",
    "\\vdots&\\vdots&\\vdots&\\vdots&\\ddots&\\vdots\\\\\n",
    "1&z^{N-1}&z^{2(N-1)}&z^{3(N-1)}&\\cdots&z^{(N-1)(N-1)}\n",
    "\\end{array}\\right]$$"
   ]
  },
  {
   "cell_type": "markdown",
   "metadata": {
    "slideshow": {
     "slide_type": "subslide"
    }
   },
   "source": [
    "Note que $F$ é simétrica (pois $F_{n,k} = z^{nk} = z^{kn} = F_{k,n}$), além de várias outras propriedades que iremos explorar."
   ]
  },
  {
   "cell_type": "markdown",
   "metadata": {
    "slideshow": {
     "slide_type": "slide"
    }
   },
   "source": [
    "Para ver que a IDFT também pode ser expressa matricialmente, considere outra vez o exemplo em $\\mathbb{C}^4$, onde $x=\\frac{1}{N}\\sum_{k=0}^{N-1}X_kE_k$. Então\n",
    "$$\\begin{array}{ll}\n",
    "x & = \\frac{1}{N}\\left(X_0\\left[\\begin{array}{c}(E_0)_0\\\\(E_0)_1\\\\(E_0)_2\\\\(E_0)_3\\end{array}\\right]+\n",
    "X_1\\left[\\begin{array}{c}(E_1)_0\\\\(E_1)_1\\\\(E_1)_2\\\\(E_1)_3\\end{array}\\right]+\n",
    "X_2\\left[\\begin{array}{c}(E_2)_0\\\\(E_2)_1\\\\(E_2)_2\\\\(E_2)_3\\end{array}\\right]+\n",
    "X_3\\left[\\begin{array}{c}(E_3)_0\\\\(E_3)_1\\\\(E_3)_2\\\\(E_3)_3\\end{array}\\right]\n",
    "\\right)\\\\\n",
    "& = \\frac{1}{N}\\left[\\begin{array}{rrrr}\n",
    "(E_0)_0&(E_1)_0&(E_2)_0&(E_3)_0\\\\\n",
    "(E_0)_1&(E_1)_1&(E_2)_1&(E_3)_1\\\\\n",
    "(E_0)_2&(E_1)_2&(E_2)_2&(E_3)_2\\\\\n",
    "(E_0)_3&(E_1)_3&(E_2)_3&(E_3)_3\n",
    "\\end{array}\\right]\n",
    "\\left[\\begin{array}{c}X_0\\\\X_1\\\\X_2\\\\X_3\\end{array}\\right],\n",
    "\\end{array}$$\n",
    "ou seja, $x=\\tilde{F}X$ onde $\\tilde{F}_{n,k} = \\frac{1}{N}(E_k)_n = \\frac{1}{N}e^{i2\\pi kn/N} = \\frac{1}{N}z^{-kn} = \\frac{1}{N}\\overline{F_{k,n}}$."
   ]
  },
  {
   "cell_type": "markdown",
   "metadata": {
    "slideshow": {
     "slide_type": "subslide"
    }
   },
   "source": [
    "**Observe a troca dos índices:** as linhas de $\\tilde{F}$ são indexadas por $n$ (índice temporal) e as colunas de $\\tilde{F}$ são indexadas por $k$ (índice espectral)."
   ]
  },
  {
   "cell_type": "markdown",
   "metadata": {
    "slideshow": {
     "slide_type": "slide"
    }
   },
   "source": [
    "### Teorema 2.2\n",
    "Seja $x\\in\\mathbb{C}^N$ e $X=DFT(x)$. Então\n",
    "$$X=Fx$$\n",
    "$$x=\\tilde{F}X$$\n",
    "onde, denotando por $z=e^{-i2\\pi/N}$,\n",
    "$$F_{k,n} = e^{-i2\\pi kn/N} = z^{kn}$$\n",
    "$$\\tilde{F}_{n,k} = \\frac{1}{N}e^{i2\\pi kn/N} = \\frac{1}{N}z^{-nk}.$$\n",
    "Além disso,\n",
    "$$\\tilde{F} = F^{-1} = \\frac{1}{N}F^*$$\n",
    "onde $*$ denota a matriz Hermitiana de $F$, que é a matriz transposta e conjugada."
   ]
  },
  {
   "cell_type": "markdown",
   "metadata": {
    "slideshow": {
     "slide_type": "subslide"
    }
   },
   "source": [
    "### Teorema 2.3\n",
    "A $DFT:\\mathbb{C}^N\\mapsto\\mathbb{C}^N$ é uma operação linear, ou seja, para quaisquer $x,y\\in\\mathbb{C}^N$ e $a,b\\in\\mathbb{C}$, vale\n",
    "$$DFT(ax+by) = aDFT(x)+bDFT(y).$$\n",
    "Analogamente, a IDFT também é uma operação linear.\n",
    "\n",
    "**Prova:** Usando a representação matricial,\n",
    "$$\\begin{array}{ll}\n",
    "DFT(ax+by) & = F(ax+by)\\\\\n",
    "& = aFx+bFy = aDFT(x)+bDFT(y),\\end{array}$$\n",
    "onde a segunda igualdade segue da distributividade do produto de matrizes."
   ]
  },
  {
   "cell_type": "markdown",
   "metadata": {
    "slideshow": {
     "slide_type": "slide"
    }
   },
   "source": [
    "## Seção 2.5.2: Simetrias para sinais reais\n",
    "\n",
    "### Proposição 2.1\n",
    "\n",
    "Um sinal $x\\in\\mathbb{C}^N$ possui todas as suas componentes **reais** se, e somente se, sua DFT $X$ satisfaz\n",
    "$$X_{-k} = \\overline{X_k},\\ \\forall k\\in\\mathbb{Z},$$\n",
    "ou equivalentemente, na representação Cartesiana\n",
    "$$\\Re(X_{-k}) = \\Re(X_k)\\quad\\quad\\text{e}\\quad\\quad\\Im(X_{-k}) = -\\Im(X_k),$$\n",
    "e na representação polar\n",
    "$$|X_{-k}| = |X_k|\\quad\\quad\\text{e}\\quad\\quad\\measuredangle X_{-k} = -\\measuredangle X_k.$$"
   ]
  },
  {
   "cell_type": "markdown",
   "metadata": {
    "slideshow": {
     "slide_type": "subslide"
    }
   },
   "source": [
    "**Prova ($\\implies$ ou \"somente se\"):** Suponha inicialmente que todas as componentes de $x$ são reais, ou seja, que $\\overline{x_n} = x_n$. Então\n",
    "$$\\begin{array}{ll}\n",
    "X_{-k} & = \\displaystyle\\sum_{n=0}^{N-1}x_ne^{-i2\\pi(-k)n/N}\\\\\n",
    " & = \\displaystyle\\sum_{n=0}^{N-1}\\overline{x_n}\\overline{e^{-i2\\pi kn/N}}\\\\\n",
    " & = \\displaystyle\\overline{\\sum_{n=0}^{N-1}x_ne^{-i2\\pi kn/N}}\\\\\n",
    " & = \\overline{X_k}.\\end{array}$$"
   ]
  },
  {
   "cell_type": "markdown",
   "metadata": {
    "slideshow": {
     "slide_type": "subslide"
    }
   },
   "source": [
    "**Prova ($\\impliedby$ ou \"se\"):** Por outro lado, supondo que $X_{-k} = \\overline{X_k},\\ \\forall k$, temos\n",
    "$$\\begin{array}{lll}\n",
    "x_n & = \\displaystyle\\frac{1}{N}\\sum_{k=0}^{N-1}X_ke^{i2\\pi kn/N}\n",
    "& = \\displaystyle\\frac{1}{N}\\sum_{k=0}^{N-1}\\overline{X_{-k}}\\overline{e^{i2\\pi(-k)n/N}}\\\\\n",
    " & = \\displaystyle\\overline{\\frac{1}{N}\\sum_{k=0}^{N-1}X_{-k}e^{i2\\pi(-k)n/N}}\n",
    " & {{\\scriptstyle -k\\mapsto l}\\atop {\\large =} } \\quad\\displaystyle\\overline{\\frac{1}{N}\\sum_{l=0}^{-(N-1)}X_{l}e^{i2\\pi ln/N}}\\\\\n",
    " & = \\displaystyle\\overline{\\frac{1}{N}\\sum_{l=0}^{N-1}X_{l}e^{i2\\pi ln/N}}\n",
    " & = \\overline{x_n},\\end{array}$$\n",
    "onde a penúltima passagem usa a periodicidade de $X_l$ e $e^{i2\\pi ln/N}$ (detalhamento a seguir)."
   ]
  },
  {
   "cell_type": "markdown",
   "metadata": {
    "slideshow": {
     "slide_type": "subslide"
    }
   },
   "source": [
    "A periodicidade de $X_l$ e $e^{i2\\pi ln/N}$ explica aquela passagem pois qualquer soma de $N$ elementos consecutivos de expressões periódicas com período $N$ tem sempre o mesmo resultado:\n",
    "$$\\begin{array}{ll}\\displaystyle\\sum_{l=0}^{-(N-1)}X_{l}e^{i2\\pi ln/N}&=X_{0}e^{i2\\pi 0n/N}+X_{-1}e^{i2\\pi (-1)n/N}+\\ldots+X_{-(N-1)}e^{i2\\pi(-N+1)n/N}\\\\\n",
    "&= X_{0}e^{i2\\pi 0n/N}+X_{-1+N}e^{i2\\pi (-1+N)n/N}+\\ldots+X_{-(N-1)+N}e^{i2\\pi(-N+1+N)n/N}\\\\\n",
    "&= X_{0}e^{i2\\pi 0n/N}+X_{N-1}e^{i2\\pi (N-1)n/N}+\\ldots+X_{1}e^{i2\\pi(1)n/N}\\\\\n",
    "&= \\displaystyle\\sum_{l=0}^{N-1}X_{l}e^{i2\\pi ln/N}.\\end{array}$$"
   ]
  },
  {
   "cell_type": "markdown",
   "metadata": {
    "slideshow": {
     "slide_type": "subslide"
    }
   },
   "source": [
    "### Observação 2.4\n",
    "\n",
    "Da proposição 2.1, se $x$ é real então $X_{-k}=\\overline{X_k}$. Além disso, como $X_k$ é periódico com período $N$, segue que $X_{-k}=X_{N-k}$. Logo\n",
    "$$X_{N-k} = \\overline{X_k}.$$\n",
    "Em particular, usando $k=\\frac{N}{2}+l$, temos que\n",
    "$$X_{\\frac{N}{2}-l} = \\overline{X_{\\frac{N}{2}+l}},$$\n",
    "o que explica a simetria conjugada dos espectros de sinais reais em relação à frequência de Nyquist $\\left(\\frac{N}{2}\\right)$:\n",
    "$$\\Re\\left(X_{\\frac{N}{2}-l}\\right) = \\Re\\left(X_{\\frac{N}{2}+l}\\right)\\quad\\quad\n",
    "\\Im\\left(X_{\\frac{N}{2}-l}\\right) = -\\Im\\left(X_{\\frac{N}{2}+l}\\right),$$\n",
    "ou equivalentemente\n",
    "$$\\left|X_{\\frac{N}{2}-l}\\right| = \\left|X_{\\frac{N}{2}+l}\\right|\\quad\\quad\n",
    "\\measuredangle X_{\\frac{N}{2}-l} = -\\measuredangle X_{\\frac{N}{2}+l}.$$\n"
   ]
  }
 ],
 "metadata": {
  "celltoolbar": "Slideshow",
  "kernelspec": {
   "display_name": "Python 3 (ipykernel)",
   "language": "python",
   "name": "python3"
  },
  "language_info": {
   "codemirror_mode": {
    "name": "ipython",
    "version": 3
   },
   "file_extension": ".py",
   "mimetype": "text/x-python",
   "name": "python",
   "nbconvert_exporter": "python",
   "pygments_lexer": "ipython3",
   "version": "3.7.13"
  }
 },
 "nbformat": 4,
 "nbformat_minor": 2
}
