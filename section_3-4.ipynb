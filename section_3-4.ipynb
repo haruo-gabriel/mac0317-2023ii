{
 "cells": [
  {
   "cell_type": "markdown",
   "metadata": {
    "slideshow": {
     "slide_type": "slide"
    }
   },
   "source": [
    "# MAC0317/MAC5920\n",
    "## Introdução ao Processamento de Sinais Digitais\n",
    "### Seção 3.4: A Transformada Discreta do Cosseno"
   ]
  },
  {
   "cell_type": "markdown",
   "metadata": {
    "slideshow": {
     "slide_type": "subslide"
    }
   },
   "source": [
    "**Motivação:** eliminar a descontinuidade das \"bordas\" (ou seja, o fato de que, em geral, $x_0 \\neq x_{N-1}$), espelhando a informação e transformando $x = (x_0, x_1, \\dots, x_{N-1})$ em $\\tilde{x} = (x_0, x_1, \\dots, x_{N-1},$ $ x_{N-1}, x_{N-2}, $ $\\dots, x_0)$:\n",
    "\n",
    "$$\n",
    "\t\\tilde{x}_n = \\left\\{\\begin{array}{ll}\n",
    "\t\tx_n & \\text{se } n = 0, 1, \\dots, N-1 \\\\\n",
    "\t\tx_{2N-n-1} & \\text{se } n = N, N+1, \\dots, 2N-1\n",
    "\t\\end{array}\\right.\n",
    "$$"
   ]
  },
  {
   "cell_type": "markdown",
   "metadata": {
    "slideshow": {
     "slide_type": "subslide"
    }
   },
   "source": [
    "A DFT de $\\tilde{x}$ é\n",
    "\n",
    "\\begin{align*}\n",
    "\t\\tilde{X}_k &= \\sum\\limits_{n=0}^{2N-1} \\tilde{x}_n e^{-i2\\pi kn/(2N)}\n",
    "\t= \\sum\\limits_{n=0}^{N-1} x_ne^{-i\\pi kn/N} + \\sum\\limits_{n=N}^{2N-1} x_{2N-n-1}e^{-i\\pi kn/N} \\\\\n",
    "\t&= \\sum\\limits_{n=0}^{N-1} x_ne^{-i\\pi kn/N} + \\sum\\limits_{l=0}^{N-1} x_{N-l-1}e^{-i\\pi k(l+N)/N}\\quad(n\\mapsto l+N)\\\\\n",
    "\t&= \\sum\\limits_{n=0}^{N-1} x_ne^{-i\\pi kn/N} + \\sum\\limits_{m=0}^{N-1} x_me^{-i\\pi k(2N-m-1)/N}\\quad(l\\mapsto N-m-1,\\ \\text{inverte}\\ \\Sigma) \\\\\n",
    "\t&= \\sum\\limits_{n=0}^{N-1} x_n(e^{-i\\pi kn/N} + e^{i\\pi k(n+1)/N}e^{-i\\pi k2})\\quad\\quad\\quad(e^{-i\\pi k(2N)/N}=1)\\\\\n",
    "\t&= \\sum\\limits_{n=0}^{N-1} x_n(e^{-i\\pi kn/N} + e^{i\\pi k(n+1)/N}) \\\\\n",
    "\\end{align*}"
   ]
  },
  {
   "cell_type": "markdown",
   "metadata": {
    "slideshow": {
     "slide_type": "subslide"
    }
   },
   "source": [
    "O último termo da equação \n",
    "$$\\tilde{X}_k = \\sum\\limits_{n=0}^{N-1} x_n(e^{-i\\pi kn/N} + e^{i\\pi k(n+1)/N})\n",
    "$$\n",
    "lembra a representação do cosseno como soma de exponenciais complexas\n",
    "$$\\cos(x) = \\frac{e^{ix} + e^{-ix}}{2},$$\n",
    "mas os expoentes não são os mesmos. Para usarmos aquela identidade precisamos *simetrizar* a expressão a partir do ponto médio dos expoentes:\n",
    "$$e^{-i\\pi kn/N} + e^{i\\pi k(n+1)/N} = e^{i\\pi k/(2N)}\n",
    "\\left(e^{-i\\pi k(n + \\frac{1}{2})/N}+e^{i\\pi k(n + \\frac{1}{2})/N}\n",
    "\\right).\n",
    "$$\n",
    "Daí vem \n",
    "\n",
    "\\begin{align*}\n",
    "\t\\tilde{X}_k &= 2e^{i\\pi k/(2N)} \\sum\\limits_{n=0}^{N-1} x_n \\cos\\left(\\pi k (n+\\frac{1}{2})/N\\right) \n",
    "\\end{align*}"
   ]
  },
  {
   "cell_type": "markdown",
   "metadata": {
    "slideshow": {
     "slide_type": "subslide"
    }
   },
   "source": [
    "Calma: isso já é *quase* a DCT...\n",
    "\n",
    "Considere agora os coeficientes $$c_k = 2\\sum\\limits_{n=0}^{N-1} x_n \\cos(\\pi k (n+\\frac{1}{2})/N)$$ (isso é o $\\tilde{X}_k$ sem o termo complexo $e^{i\\pi k/(2N)}$). Temos então que:\n",
    "\n",
    "1. $c_k\\in\\mathbb{R}\\quad\\text{sempre que}\\quad x\\in\\mathbb{R}^N$\n",
    "2. $c_{-k} = c_k, \\forall k$\n",
    "3. $c_{k+2N} = -c_k, \\forall k$\n",
    "\n",
    "**Observação:** pelas propriedades (2) e (3) podemos guardar apenas $c=(c_0, c_1, \\dots, c_{N-1})\\in\\mathbb{R}^N$, pois todos os outros $c_k$ se escrevem em função deles. Isso garante a possibilidade de reconstrução exata do vetor $\\tilde{X}\\in\\mathbb{C}^{2N}$.\n",
    "\n",
    "Observe também que de (2) e (3) segue que $c_N=0$, pois\n",
    "$c_N=c_{-N+2N}=-c_{-N}=-c_N\\implies 2c_N=0$."
   ]
  },
  {
   "cell_type": "markdown",
   "metadata": {
    "slideshow": {
     "slide_type": "subslide"
    }
   },
   "source": [
    "A partir do conhecimento de $c\\in\\mathbb{R}^N$ e de sua relação com o vetor $\\tilde{X}\\in\\mathbb{C}^{2N}$ podemos ressintetizar o vetor $\\tilde{x} = (x_0, x_1, \\dots, x_{N-1}, x_{N-1}, \\dots, x_0)$ assim:\n",
    "\n",
    "\\begin{align*}\n",
    "\t\\tilde{x}_n &= \\frac{1}{2N}\\sum\\limits_{k=0}^{2N-1} \\tilde{X}_k e^{i2\\pi kn/(2N)}\n",
    "\t= \\frac{1}{2N}\\sum\\limits_{k=0}^{2N-1} e^{i\\pi k/(2N)} c_k e^{i2\\pi kn/(2N)} \\\\\n",
    "\t&= \\frac{1}{2N}\\left[\\sum\\limits_{k=0}^{N-1}c_k e^{i2\\pi k(n+\\frac{1}{2})/(2N)} + \\sum\\limits_{k=N}^{2N-1}c_k e^{i2\\pi k(n+\\frac{1}{2})/(2N)}\\right] \\quad (k\\mapsto 2N-l-1)\\\\\n",
    "\t&= \\frac{1}{2N}\\left[\\sum\\limits_{k=0}^{N-1}c_k e^{i2\\pi k(n+\\frac{1}{2})/(2N)} + \\sum\\limits_{l=0}^{N-1}c_{2N-l-1} e^{i2\\pi (2N-l-1)(n+\\frac{1}{2})/(2N)}\\right]\\ (\\text{inverte}\\ \\Sigma)\\\\\n",
    "\t&= \\frac{1}{2N}\\left[\\sum\\limits_{k=0}^{N-1}c_k e^{i2\\pi k(n+\\frac{1}{2})/(2N)} + \\sum\\limits_{k=1}^{N-1}c_k e^{-i2\\pi k(n+\\frac{1}{2})/(2N)}\\right] \\\\\n",
    "\t&= \\frac{1}{2N}\\left[c_0 + 2\\sum\\limits_{k=1}^{N-1}c_k\\cos(\\pi k(n+\\frac{1}{2})/N)\\right]\n",
    "\\end{align*}"
   ]
  },
  {
   "cell_type": "markdown",
   "metadata": {
    "slideshow": {
     "slide_type": "slide"
    }
   },
   "source": [
    "### Definição 3.4.1: DCT e IDCT\n",
    "\n",
    "A transformada do cosseno do vetor $x\\in\\mathbb{C}^N$ é o vetor $C=DCT(x)\\in\\mathbb{C}^N$ dado pela equação de análise\n",
    "\n",
    "\\begin{align*}\n",
    "\tC_0 &= \\sqrt{\\frac{1}{N}}\\sum\\limits_{m=0}^{N-1} x_m\\cos\\left(\\frac{\\pi 0\\left(m+\\frac{1}{2}\\right)}{N}\\right)\n",
    "\t= \\sqrt{\\frac{1}{N}}\\sum\\limits_{m=0}^{N-1} x_m \\\\\n",
    "\tC_k &= \\sqrt{\\frac{2}{N}}\\sum\\limits_{m=0}^{N-1} x_m\\cos\\left(\\frac{\\pi k\\left(m+\\frac{1}{2}\\right)}{N}\\right), k = 1, 2, \\dots, N-1 \\\\\n",
    "\\end{align*}\n",
    "\n",
    "com a respectiva equação de síntese ($x=IDCT(C)$) dada por\n",
    "\n",
    "\\begin{equation*}\n",
    "\tx_m = \\sqrt{\\frac{1}{N}}C_0 + \\sqrt{\\frac{2}{N}}\\sum\\limits_{k=1}^{N-1}C_k\\cos\\left(\\frac{\\pi\\left(m + \\frac{1}{2}\\right)k}{N}\\right)\n",
    "\\end{equation*}"
   ]
  },
  {
   "cell_type": "markdown",
   "metadata": {
    "slideshow": {
     "slide_type": "subslide"
    }
   },
   "source": [
    "### Formulação matricial da DCT e IDCT\n",
    "\n",
    "A partir da definição da $DCT(x)$ podemos escrever $DCT(x) = \\mathcal{C}_N x$ onde $\\mathcal{C}_N$ é a matriz\n",
    "\n",
    "\\begin{equation*}\n",
    "\t\\begin{pmatrix}\n",
    "\t\t\\sqrt{\\frac{1}{N}} & \\sqrt{\\frac{1}{N}} & \\dots & \\sqrt{\\frac{1}{N}} \\\\\n",
    "\t\t\\sqrt{\\frac{2}{N}}\\cos\\left(\\frac{\\pi\\left(0 + \\frac{1}{2}\\right)}{N}\\right) & \\sqrt{\\frac{2}{N}}\\cos\\left(\\frac{\\pi\\left(1 + \\frac{1}{2}\\right)}{N}\\right) & \\dots & \\sqrt{\\frac{2}{N}}\\cos\\left(\\frac{\\pi\\left((N-1) + \\frac{1}{2}\\right)}{N}\\right) \\\\\n",
    "\t\t\\vdots & \\vdots & \\ddots & \\vdots \\\\\n",
    "\t\t\\sqrt{\\frac{2}{N}}\\cos\\left(\\frac{\\pi(N-1)\\left(0 + \\frac{1}{2}\\right)}{N}\\right) & \\sqrt{\\frac{2}{N}}\\cos\\left(\\frac{\\pi(N-1)\\left(1 + \\frac{1}{2}\\right)}{N}\\right) & \\dots & \\sqrt{\\frac{2}{N}}\\cos\\left(\\frac{\\pi(N-1)\\left((N-1) + \\frac{1}{2}\\right)}{N}\\right) \\\\\n",
    "\t\\end{pmatrix}\n",
    "\\end{equation*}"
   ]
  },
  {
   "cell_type": "markdown",
   "metadata": {
    "slideshow": {
     "slide_type": "subslide"
    }
   },
   "source": [
    "Em outras palavras, a matriz $\\mathcal{C}_N$ possui componentes\n",
    "\\begin{equation*}\n",
    "\t(\\mathcal{C}_N)_{k,m} = \\left\\{\\begin{array}{ll}\n",
    "\t\t\\sqrt{\\frac{1}{N}} & \\text{ se }k = 0 \\\\\n",
    "\t\t\\sqrt{\\frac{2}{N}}\\cos\\left(\\frac{\\pi k\\left(m + \\frac{1}{2}\\right)}{N}\\right) & \\text{ se } k = 1, 2, \\dots, N-1\n",
    "\t\\end{array}\\right.\n",
    "\\end{equation*}\n",
    "**Observe** que essa matriz é indexada nas linhas pela frequência e nas colunas pelo tempo, exatamente como a matriz $F$ da DFT."
   ]
  },
  {
   "cell_type": "markdown",
   "metadata": {
    "slideshow": {
     "slide_type": "subslide"
    }
   },
   "source": [
    "Da equação de síntese\n",
    "\\begin{equation*}\n",
    "\tx_m = \\sqrt{\\frac{1}{N}}C_0 + \\sqrt{\\frac{2}{N}}\\sum\\limits_{k=1}^{N-1}C_k\\cos\\left(\\frac{\\pi\\left(m + \\frac{1}{2}\\right)k}{N}\\right)\n",
    "\\end{equation*}\n",
    "segue que $IDCT(C) = \\tilde{\\mathcal{C}}_N C$, onde\n",
    "\n",
    "\\begin{equation*}\n",
    "\t\\tilde{\\mathcal{C}}_N = \\begin{pmatrix}\n",
    "\t\t\\sqrt{\\frac{1}{N}} & \\sqrt{\\frac{2}{N}}\\cos\\left(\\frac{\\pi\\left(0 + \\frac{1}{2}\\right)}{N}\\right) & \\dots & \\sqrt{\\frac{2}{N}}\\cos\\left(\\frac{\\pi(N-1)\\left(0 + \\frac{1}{2}\\right)}{N}\\right) \\\\\n",
    "\t\t\\sqrt{\\frac{1}{N}} & \\sqrt{\\frac{2}{N}}\\cos\\left(\\frac{\\pi\\left(1 + \\frac{1}{2}\\right)}{N}\\right) & \\dots & \\sqrt{\\frac{2}{N}}\\cos\\left(\\frac{\\pi(N-1)\\left(1 + \\frac{1}{2}\\right)}{N}\\right) \\\\\n",
    "\t\t\\vdots & \\vdots & \\ddots & \\vdots \\\\\n",
    "\t\t\\sqrt{\\frac{1}{N}} & \\sqrt{\\frac{2}{N}}\\cos\\left(\\frac{\\pi\\left((N-1) + \\frac{1}{2}\\right)}{N}\\right) & \\dots & \\sqrt{\\frac{2}{N}}\\cos\\left(\\frac{\\pi(N-1)\\left((N-1) + \\frac{1}{2}\\right)}{N}\\right) \\\\\n",
    "\t\\end{pmatrix}\n",
    "\\end{equation*}"
   ]
  },
  {
   "cell_type": "markdown",
   "metadata": {
    "slideshow": {
     "slide_type": "subslide"
    }
   },
   "source": [
    "Em outras palavras, a matriz $\\tilde{\\mathcal{C}}_N$ possui componentes\n",
    "\n",
    "\\begin{equation*}\n",
    "\t(\\tilde{\\mathcal{C}}_N)_{m,k} = \\left\\{\\begin{array}{ll}\n",
    "\t\t\\sqrt{\\frac{1}{N}} & \\text{ se }k = 0 \\\\\n",
    "\t\t\\sqrt{\\frac{2}{N}}\\cos\\left(\\frac{\\pi k\\left(m + \\frac{1}{2}\\right)}{N}\\right) & \\text{ se } k = 1, 2, \\dots, N-1\n",
    "\t\\end{array}\\right.\n",
    "\\end{equation*}\n",
    "**Observe** que essa matriz é indexada nas linhas pelo tempo e nas colunas pela frequência, como a matriz $\\tilde{F}$ da IDFT."
   ]
  },
  {
   "cell_type": "markdown",
   "metadata": {
    "slideshow": {
     "slide_type": "slide"
    }
   },
   "source": [
    "### Ortogonalidade da DCT\n",
    "\n",
    "Observamos que $(\\tilde{\\mathcal{C}}_N)_{m,k} = (\\mathcal{C}_N)_{k,m}$, ou seja,\n",
    "\n",
    "\\begin{equation*}\n",
    "\t\\tilde{\\mathcal{C}}_N = \\mathcal{C}_N^T.\n",
    "\\end{equation*}\n",
    "\n",
    "Pelo fato de que IDCT(DCT($x$)) = $x$, temos que $\\mathcal{C}_N^T(\\mathcal{C}_Nx) = x, \\forall x$ de onde $\\mathcal{C}_N^T\\mathcal{C}_N=I$, ou equivalentemente,\n",
    "\n",
    "\\begin{equation*}\n",
    "\t\\mathcal{C}_N^T = \\mathcal{C}_N^{-1}.\n",
    "\\end{equation*}\n",
    "\n",
    "Uma matriz que satisfaz essa propriedade é dita **ortogonal**, por razões que ficarão claras na seção a seguir."
   ]
  }
 ],
 "metadata": {
  "celltoolbar": "Slideshow",
  "kernelspec": {
   "display_name": "Python 3",
   "language": "python",
   "name": "python3"
  },
  "language_info": {
   "codemirror_mode": {
    "name": "ipython",
    "version": 3
   },
   "file_extension": ".py",
   "mimetype": "text/x-python",
   "name": "python",
   "nbconvert_exporter": "python",
   "pygments_lexer": "ipython3",
   "version": "3.7.11"
  }
 },
 "nbformat": 4,
 "nbformat_minor": 2
}
