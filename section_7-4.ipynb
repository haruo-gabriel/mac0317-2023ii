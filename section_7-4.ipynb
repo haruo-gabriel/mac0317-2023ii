{
 "cells": [
  {
   "cell_type": "markdown",
   "metadata": {
    "slideshow": {
     "slide_type": "slide"
    }
   },
   "source": [
    "# MAC0317/MAC5920\n",
    "## Introdução ao Processamento de Sinais Digitais\n",
    "## Seção 7.4: Bancos de filtros multiestágios"
   ]
  },
  {
   "cell_type": "code",
   "execution_count": null,
   "metadata": {
    "slideshow": {
     "slide_type": "skip"
    }
   },
   "outputs": [],
   "source": [
    "import math as m\n",
    "import numpy as np\n",
    "import matplotlib.pyplot as plt\n",
    "import pywt\n",
    "from ipywidgets import Dropdown, interactive"
   ]
  },
  {
   "cell_type": "markdown",
   "metadata": {
    "slideshow": {
     "slide_type": "slide"
    }
   },
   "source": [
    "### Aplicação reiterada de bancos de filtros\n",
    "\n",
    "A transformada definida por\n",
    "\n",
    "$$x\\mapsto (X_l,X_h) = \\left(D(l_a*x),D(h_a*x)\\right)$$\n",
    "\n",
    "pode ser iterada a fim de ganhar novas perspectivas sobre o sinal e novas possibilidades de processamento.\n",
    "\n",
    "A aplicação *reiterada* ou *encaixada* do banco de filtros pode ser feita recodificando os sinais $X_l$ e/ou $X_h$ através do mesmo processo: filtragem e subamostragem"
   ]
  },
  {
   "cell_type": "markdown",
   "metadata": {
    "slideshow": {
     "slide_type": "subslide"
    }
   },
   "source": [
    "### Aplicação reiterada em todos os canais\n",
    "\n",
    "Se decidirmos recodificar tanto $X_l$ quanto $X_h$, através das transformações\n",
    "\n",
    "$$\\begin{array}{l}\n",
    "X_l\\mapsto (X_{ll},X_{lh}) = \\left(D(l_a*X_l),D(h_a*X_l)\\right)\\\\\n",
    "X_h\\mapsto (X_{hl},X_{hh}) = \\left(D(l_a*X_h),D(h_a*X_h)\\right)\n",
    "\\end{array}$$\n",
    "\n",
    "teremos a teoria dos *pacotes wavelet* (*wavelet packets*). A transformada completa em dois estágios será\n",
    "\n",
    "$$x\\mapsto(X_{ll},X_{lh},X_{hl},X_{hh}).$$"
   ]
  },
  {
   "cell_type": "markdown",
   "metadata": {
    "slideshow": {
     "slide_type": "subslide"
    }
   },
   "source": [
    "Graficamente, podemos representar o banco de filtros completo em dois estágios como\n",
    "$$x\\longrightarrow\\begin{array}{|l}\n",
    "\\longrightarrow\\fbox{$\\ \\ l_a\\,\\ \\ $}\\longrightarrow\\fbox{$\\ \\ D\\ \\ $}\\longrightarrow X_l\\,\n",
    "\\longrightarrow\\begin{array}{|l}\n",
    "\\longrightarrow\\fbox{$\\ \\ l_a\\,\\ \\ $}\\longrightarrow\\fbox{$\\ \\ D\\ \\ $}\\longrightarrow\\\\\n",
    "\\longrightarrow\\fbox{$\\ \\ h_a\\ \\ $}\\longrightarrow\\fbox{$\\ \\ D\\ \\ $}\\longrightarrow\n",
    "\\end{array}\\\\\n",
    "\\rule{0mm}{0mm}\\\\\n",
    "\\longrightarrow\\fbox{$\\ \\ h_a\\ \\ $}\\longrightarrow\\fbox{$\\ \\ D\\ \\ $}\\longrightarrow X_h\n",
    "\\longrightarrow\\begin{array}{|l}\n",
    "\\longrightarrow\\fbox{$\\ \\ l_a\\,\\ \\ $}\\longrightarrow\\fbox{$\\ \\ D\\ \\ $}\\longrightarrow\\\\\n",
    "\\longrightarrow\\fbox{$\\ \\ h_a\\ \\ $}\\longrightarrow\\fbox{$\\ \\ D\\ \\ $}\\longrightarrow\n",
    "\\end{array}\n",
    "\\end{array}\\left[\\begin{array}{c}\n",
    "\\rule{0mm}{2.5ex}\\fbox{$X_{ll}$}\\\\\n",
    "\\rule{0mm}{2.5ex}\\fbox{$X_{lh}$}\\\\\n",
    "\\rule{0mm}{5.5ex}\\fbox{$X_{hl}$}\\\\\n",
    "\\rule{0mm}{2.5ex}\\fbox{$X_{hh}$}\n",
    "\\end{array}\\right]$$"
   ]
  },
  {
   "cell_type": "markdown",
   "metadata": {
    "slideshow": {
     "slide_type": "subslide"
    }
   },
   "source": [
    "### Aplicação reiterada apenas nos coeficientes de aproximação ($X_l$)\n",
    "\n",
    "A teoria de **wavelets** prevê a aplicação reiterada ou encaixada do banco de filtros apenas no canal de baixas frequências em cada estágio:\n",
    "\n",
    "$$x\\longrightarrow\\begin{array}{|l}\n",
    "\\longrightarrow\\fbox{$\\ \\ l_a\\,\\ \\ $}\\longrightarrow\\fbox{$\\ \\ D\\ \\ $}\\longrightarrow X_l\\,\n",
    "\\longrightarrow\\begin{array}{|l}\n",
    "\\longrightarrow\\fbox{$\\ \\ l_a\\,\\ \\ $}\\longrightarrow\\fbox{$\\ \\ D\\ \\ $}\\longrightarrow\\\\\n",
    "\\longrightarrow\\fbox{$\\ \\ h_a\\ \\ $}\\longrightarrow\\fbox{$\\ \\ D\\ \\ $}\\longrightarrow\n",
    "\\end{array}\\\\\n",
    "\\rule{0mm}{0mm}\\\\\n",
    "\\longrightarrow\\fbox{$\\ \\ h_a\\ \\ $}\\longrightarrow\\fbox{$\\ \\ D\\ \\ $}\\ \\rule[0.44ex]{6.7cm}{0.7pt}\\!\\!\\longrightarrow\n",
    "\\end{array}\\left[\\begin{array}{c}\n",
    "\\rule{0mm}{2.5ex}\\fbox{$X_{ll}$}\\\\\n",
    "\\rule{0mm}{2.5ex}\\fbox{$X_{lh}$}\\\\\n",
    "\\rule{0mm}{5.5ex}\\fbox{$X_{h}$}\n",
    "\\end{array}\\right]$$"
   ]
  },
  {
   "cell_type": "markdown",
   "metadata": {
    "slideshow": {
     "slide_type": "subslide"
    }
   },
   "source": [
    "Isso equivale à transformada\n",
    "\n",
    "$$x\\mapsto(X_{ll},X_{lh},X_{h})=\\left(\\underbrace{D(l_a*\\overbrace{D(l_a*x)}^{X_l})}_{X_{ll}},\\underbrace{D(h_a*\\overbrace{D(l_a*x)}^{X_l})}_{X_{lh}},D(h_a*x)\\right),$$\n",
    "\n",
    "cuja inversa depende da aplicação também em dois estágios das operações de *superamostragem* e *filtragem*, ou seja, a transformada inversa $(X_{ll},X_{lh},X_{h})\\mapsto x$ é dada por\n",
    "\n",
    "$$x = l_s*U\\left(\\overbrace{l_s*U(X_{ll})+h_s*U(X_{lh})}^{X_l}\\right)+h_s*U(X_h).$$"
   ]
  },
  {
   "cell_type": "markdown",
   "metadata": {
    "slideshow": {
     "slide_type": "subslide"
    }
   },
   "source": [
    "### Transformada em mais de dois estágios\n",
    "\n",
    "O processo acima pode ser generalizado para $M$ estágios, sempre recodificando o canal de baixas frequências obtidos no estágio anterior:\n",
    "\n",
    "$$x\\mapsto\n",
    "\\left[\\begin{array}{c}\n",
    "\\fbox{$X_{l}$}\\\\\n",
    "X_{h}\n",
    "\\end{array}\\right]\\mapsto\n",
    "\\left[\\begin{array}{c}\n",
    "\\fbox{$X_{ll}$}\\\\\n",
    "X_{lh}\\\\\n",
    "X_{h}\n",
    "\\end{array}\\right]\\mapsto\n",
    "\\left[\\begin{array}{c}\n",
    "\\fbox{$X_{lll}$}\\\\\n",
    "X_{llh}\\\\\n",
    "X_{lh}\\\\\n",
    "X_{h}\n",
    "\\end{array}\\right]\\mapsto\n",
    "\\left[\\begin{array}{c}\n",
    "\\fbox{$X_{llll}$}\\\\\n",
    "X_{lllh}\\\\\n",
    "X_{llh}\\\\\n",
    "X_{lh}\\\\\n",
    "X_{h}\n",
    "\\end{array}\\right]\\mapsto\\cdots$$\n",
    "\n",
    "onde após $M$ aplicações teremos uma componente $X_{\\underbrace{ll\\cdots l}_{M}}$ e $M$ componentes da forma $X_{\\underbrace{ll\\cdots l}_{L}h}$ para $L=M-1,M-2,\\ldots,0$.\n",
    "\n",
    "A decodificação deve ser realizada também em $M$ etapas, seguindo a sequência acima na direção oposta."
   ]
  },
  {
   "cell_type": "markdown",
   "metadata": {
    "slideshow": {
     "slide_type": "slide"
    }
   },
   "source": [
    "### Exemplo 7.6\n",
    "\n",
    "Considere outra vez o sinal do exemplo 7.2:\n",
    "\n",
    "$$x(t) = \\left\\{\\begin{array}{ll}\n",
    "\\sin(2\\pi 12 t),&0\\le t<t_1\\\\\n",
    "0.8,&t_1\\le t<t_2\\\\\n",
    "0.3,&t_2\\le t<t_3\\\\\n",
    "0,&t_3\\le t<1\n",
    "\\end{array}\\right.$$\n",
    "\n",
    "onde $0<t_1<t_2<t_3<1$.\n",
    "\n",
    "Consideraremos sua codificação em até 4 estágios pelo banco de filtros ortogonal da Haar, ou seja, usando\n",
    "\n",
    "$$\\begin{array}{llrcccl}\n",
    "l&=&(\\ldots,0,&0,&\\overbrace{\\frac{\\sqrt{2}}{2}}^{\\small n=0},&\\frac{\\sqrt{2}}{2},&0,\\ldots)\\\\\n",
    "h&=&(\\ldots,0,&0,&\\frac{\\sqrt{2}}{2},&-\\frac{\\sqrt{2}}{2},&0,\\ldots)\n",
    "\\end{array}$$"
   ]
  },
  {
   "cell_type": "code",
   "execution_count": null,
   "metadata": {
    "slideshow": {
     "slide_type": "subslide"
    }
   },
   "outputs": [],
   "source": [
    "N = 1024;x = np.zeros(1024);x[0:350] = np.sin(2 * m.pi * 12 *  np.arange(0, 1, 1/N)[:350]) \n",
    "x[350:500] = 0.8 * np.ones(150);x[500:800] = 0.3 * np.ones(300)\n",
    "fig, ax = plt.subplots(1,1, figsize=(15,5))\n",
    "ax.plot(x);ax.set_title(\"Sinal original\");plt.show()"
   ]
  },
  {
   "cell_type": "code",
   "execution_count": null,
   "metadata": {
    "slideshow": {
     "slide_type": "skip"
    }
   },
   "outputs": [],
   "source": [
    "from numpy.fft import fft,ifft\n",
    "\n",
    "# convolução circular\n",
    "def cconv(x,h):    # considera que |h|<=|x|\n",
    "    hpad = np.zeros(len(x))\n",
    "    hpad[:len(h)] = h\n",
    "    return np.real(ifft(fft(x)*fft(hpad)))\n",
    "\n",
    "# DWT ortogonal de Haar com M estágios\n",
    "# Obs: essa mesma implementação serve para outros bancos de filtros, sendo que, se \n",
    "# forem causais, apenas as duas linhas que definem la e ha precisam ser alteradas.\n",
    "# Se os filtros não forem causais, será necessário fazer um shift circular das saídas\n",
    "# das convoluções usando a função np.roll(..., -L), onde L é o número de coeficientes\n",
    "# do filtro com índices negativos.\n",
    "def dwt_haar(x, M=1):\n",
    "    # filtros de análise de Haar (definidos para n=0,1)\n",
    "    c = m.sqrt(2)/2\n",
    "    la = np.array([c, c]) # filtro passa-baixas\n",
    "    ha = np.array([c, -c]) # filtro passa-altas\n",
    "    # inicializa vetor X de saída com uma cópia de x\n",
    "    N = len(x)\n",
    "    X = np.ndarray(np.shape(x))\n",
    "    X[:] = x\n",
    "    # em cada estágio j, codificaremos o vetor\n",
    "    # y = X_{ll...l} = coefs de aproximação do estágio anterior\n",
    "    for j in range(M):\n",
    "        y = X[:N] # seleciona o trecho a codificar\n",
    "        X[:N//2] = cconv(y,la)[::2] # Xl = D(x*l)\n",
    "        X[N//2:N] = cconv(y,ha)[::2] # Xh = D(x*h)\n",
    "        N = N//2 # próximo estágio processará metade do vetor\n",
    "    return X\n",
    "\n",
    "# IDWT ortogonal de Haar com M estágios\n",
    "# Obs: essa mesma implementação serve para outros bancos de filtros. Para o banco\n",
    "# de filtros de Haar, cada filtro de síntese possui L=1 coeficientes com índices\n",
    "# negativos, e por isso as saídas das convoluções são corrigidas por um shift\n",
    "# circular usando a função np.roll(..., -L).\n",
    "def idwt_haar(X, M=1):\n",
    "    # filtros de síntese de Haar (definidos para n=-1,0)\n",
    "    c = m.sqrt(2)/2\n",
    "    ls = np.array([ c, c ]) # filtro passa-baixas\n",
    "    hs = np.array([ -c, c ]) # filtro passa-altas\n",
    "    # inicializa vetor x da saída\n",
    "    x = X.copy()\n",
    "    # começa a reconstrução do último nível\n",
    "    n = len(X)//2**M\n",
    "    for j in range(M,0,-1):\n",
    "        # coeficientes de aproximação e detalhes do nível j\n",
    "        cA, cD = x[:n], x[n:2*n]\n",
    "        # superamostragem\n",
    "        UXl = np.zeros(2*n); UXl[::2] = cA\n",
    "        UXh = np.zeros(2*n); UXh[::2] = cD\n",
    "        # filtragem (a função np.roll ajusta o shift dos filtros de síntese)\n",
    "        vl, vh = np.roll(cconv(UXl, ls), -1), np.roll(cconv(UXh, hs), -1)\n",
    "        x[:2*n] = vl+vh # combina canais\n",
    "        n = n*2 # próximo nível terá o dobro dos coeficientes\n",
    "    return x"
   ]
  },
  {
   "cell_type": "code",
   "execution_count": null,
   "metadata": {
    "slideshow": {
     "slide_type": "skip"
    }
   },
   "outputs": [],
   "source": [
    "def coeficientes_etapa(j):\n",
    "    fig,axes = plt.subplots(1,3, sharey='col', figsize=(15, 3))\n",
    "    N = len(x)\n",
    "    X = dwt_haar(x, M=j);X_1 = dwt_haar(x, M=j-1)\n",
    "    axes[0].plot(X_1[:N//2**(j-1)]);\n",
    "    if j>1:\n",
    "        axes[0].set_title(\"Coefs de aproximacao de {}a etapa(s)\".format(j-1))\n",
    "    else:\n",
    "        axes[0].set_title(\"Sinal original\")\n",
    "    axes[1].plot(X[:N//2**j]);axes[1].set_title(\"Coefs de aproximacao de {}a etapa(s)\".format(j))\n",
    "    axes[2].plot(X[N//2**j:N//2**(j-1)]);axes[2].set_title(\"Coefs de detalhes de {}a etapa(s)\".format(j))\n",
    "    plt.show()"
   ]
  },
  {
   "cell_type": "code",
   "execution_count": null,
   "metadata": {
    "slideshow": {
     "slide_type": "subslide"
    }
   },
   "outputs": [],
   "source": [
    "coeficientes_etapa(1)"
   ]
  },
  {
   "cell_type": "code",
   "execution_count": null,
   "metadata": {
    "slideshow": {
     "slide_type": "subslide"
    }
   },
   "outputs": [],
   "source": [
    "coeficientes_etapa(2)"
   ]
  },
  {
   "cell_type": "code",
   "execution_count": null,
   "metadata": {
    "slideshow": {
     "slide_type": "subslide"
    }
   },
   "outputs": [],
   "source": [
    "coeficientes_etapa(3)"
   ]
  },
  {
   "cell_type": "code",
   "execution_count": null,
   "metadata": {
    "slideshow": {
     "slide_type": "subslide"
    }
   },
   "outputs": [],
   "source": [
    "coeficientes_etapa(4)"
   ]
  },
  {
   "cell_type": "markdown",
   "metadata": {
    "slideshow": {
     "slide_type": "slide"
    }
   },
   "source": [
    "Observaremos agora o efeito de comprimir as representações em $M$ estágios da forma\n",
    "\n",
    "$$\\left(X_{ll\\cdots ll},X_{ll\\cdots lh},\\cdots,X_{h}\\right)$$\n",
    "\n",
    "mantendo *apenas* os coeficientes de aproximação da última etapa, ou seja, resintetizando o sinal a partir de \n",
    "\n",
    "$$\\left(X_{ll\\cdots ll},\\overbrace{X_{ll\\cdots lh}}^{=0},\\cdots,\\overbrace{X_{h}}^{=0}\\right).$$"
   ]
  },
  {
   "cell_type": "code",
   "execution_count": null,
   "metadata": {
    "slideshow": {
     "slide_type": "skip"
    }
   },
   "outputs": [],
   "source": [
    "def reconstrução_etapa(j):\n",
    "    fig,axes = plt.subplots(1,3, sharey='col', figsize=(15, 3))\n",
    "    X = dwt_haar(x, M=j)\n",
    "    axes[0].plot(X[:N//2**j]);axes[0].set_title(\"Coefs de aproximacao de {}a etapa(s)\".format(j))\n",
    "    axes[1].plot(X[N//2**j:N//2**(j-1)]);axes[1].set_title(\"Coefs de detalhes de {}a etapa(s)\".format(j))\n",
    "    Xapprox = np.zeros(len(x))\n",
    "    Xapprox[:N//2**j] = X[:N//2**j]\n",
    "    y = idwt_haar(Xapprox, M=j)\n",
    "    axes[2].plot(y);axes[2].set_title(\"Reconstrucao da {}a etapa(s)\".format(j))\n",
    "    plt.show()\n",
    "    print(\"Tamanho (relativo) do vetor comprimido = {0:.2f}%\".format(100*2**(-j)))\n",
    "    print(\"Erro (relativo) da reconstrução = {0:.2f}%\".format(100*np.linalg.norm(x-y)**2/np.linalg.norm(x)**2))"
   ]
  },
  {
   "cell_type": "code",
   "execution_count": null,
   "metadata": {
    "slideshow": {
     "slide_type": "subslide"
    }
   },
   "outputs": [],
   "source": [
    "reconstrução_etapa(1)"
   ]
  },
  {
   "cell_type": "code",
   "execution_count": null,
   "metadata": {
    "slideshow": {
     "slide_type": "subslide"
    }
   },
   "outputs": [],
   "source": [
    "reconstrução_etapa(2)"
   ]
  },
  {
   "cell_type": "code",
   "execution_count": null,
   "metadata": {
    "slideshow": {
     "slide_type": "subslide"
    }
   },
   "outputs": [],
   "source": [
    "reconstrução_etapa(3)"
   ]
  },
  {
   "cell_type": "code",
   "execution_count": null,
   "metadata": {
    "slideshow": {
     "slide_type": "subslide"
    }
   },
   "outputs": [],
   "source": [
    "reconstrução_etapa(4)"
   ]
  },
  {
   "cell_type": "markdown",
   "metadata": {
    "slideshow": {
     "slide_type": "slide"
    }
   },
   "source": [
    "### Pywavelets\n",
    "\n",
    "O módulo Pywavelets fornece diversas funções para lidar com Wavelets discretas e contínuas e implementa nativamente diversas familias de funções bases. O banco de filtros de Harr é implementado ligeiramente diferente do utilizado no livro, e portanto os coeficientes de aproximação e detalhe tem pequenas diferenças em relação as figuras do capítulo 6, porém a transformada inversa é realizada de maneira que a reconstrução continua perfeita.\n",
    "\n",
    "Exemplos de uso:\n",
    "\n",
    "<tt>y = pywt.wavedec(x, 'haar', mode='zero', level=j)</tt>\n",
    "<br>\n",
    "<tt>x = pywt.waverec(y, 'haar', mode='zero')</tt>\n",
    "\n",
    "A documentação do módulo pode ser encontrada aqui: https://pywavelets.readthedocs.io/en/latest/ref/index.html"
   ]
  },
  {
   "cell_type": "code",
   "execution_count": null,
   "metadata": {
    "slideshow": {
     "slide_type": "skip"
    }
   },
   "outputs": [],
   "source": [
    "def reconstrução2(j):\n",
    "    fig,axes = plt.subplots(1,3, sharey='col', figsize=(15, 3))\n",
    "    coefs = pywt.wavedec(x, 'haar', mode='periodic', level=j)\n",
    "    axes[0].plot(coefs[0]);axes[0].set_title(\"Coefs de aproximacao de {}a etapa(s)\".format(j))\n",
    "    axes[1].plot(coefs[1]);axes[1].set_title(\"Coefs de detalhes de {}a etapa(s)\".format(j))\n",
    "    coefs_zero = [np.zeros(len(v)) for v in coefs];coefs_zero[0] = coefs[0]\n",
    "    y = pywt.waverec(coefs_zero, 'haar', mode='periodic')\n",
    "    axes[2].plot(y);axes[2].set_title(\"Reconstrucao da {}a etapa(s)\".format(j))\n",
    "    plt.show()\n",
    "    print(\"Tamanho (relativo) do vetor comprimido = {0:.2f}%\".format(100*2**(-j)))\n",
    "    print(\"Erro (relativo) da reconstrução = {0:.2f}%\".format(100*np.linalg.norm(x-y)**2/np.linalg.norm(x)**2))\n",
    "\n",
    "nsteps = 4\n",
    "for j in range(1,nsteps+1):\n",
    "    reconstrução2(j)"
   ]
  }
 ],
 "metadata": {
  "celltoolbar": "Slideshow",
  "kernelspec": {
   "display_name": "Python 3",
   "language": "python",
   "name": "python3"
  },
  "language_info": {
   "codemirror_mode": {
    "name": "ipython",
    "version": 3
   },
   "file_extension": ".py",
   "mimetype": "text/x-python",
   "name": "python",
   "nbconvert_exporter": "python",
   "pygments_lexer": "ipython3",
   "version": "3.7.11"
  }
 },
 "nbformat": 4,
 "nbformat_minor": 2
}
