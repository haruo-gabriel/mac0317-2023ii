{
 "cells": [
  {
   "cell_type": "markdown",
   "metadata": {
    "slideshow": {
     "slide_type": "slide"
    }
   },
   "source": [
    "# MAC0317/MAC5920\n",
    "## Introdução ao Processamento de Sinais Digitais\n",
    "## Seção 7.5: Bancos de Filtros para Sinais Finitos"
   ]
  },
  {
   "cell_type": "code",
   "execution_count": null,
   "metadata": {
    "slideshow": {
     "slide_type": "skip"
    }
   },
   "outputs": [],
   "source": [
    "import math as m\n",
    "import numpy as np\n",
    "import matplotlib.pyplot as plt\n",
    "import pywt\n",
    "from ipywidgets import Dropdown, interactive"
   ]
  },
  {
   "cell_type": "markdown",
   "metadata": {
    "slideshow": {
     "slide_type": "slide"
    }
   },
   "source": [
    "### Seção 7.5.1: Estratégias de extensão\n",
    "\n",
    "Para estender a ideia de bancos de filtros para sinais finitos, adotaremos a estratégia de estender o sinal finito para o contexto bi-infinito.\n",
    "\n",
    "Seja $x\\in\\mathbb{C}^N$. Queremos representá-lo através de um sinal $\\tilde{x}\\in L^2(\\mathbb{Z})$. Algumas opções são:\n",
    "\n",
    "> 1. extensão com zeros\n",
    "\n",
    "$$\\tilde{x}_k = \\left\\{\\begin{array}{ll}\n",
    "\t\t\tx_k, & \\text{ }k\\in\\{0, 1, \\dots, N-1\\} \\\\\n",
    "\t\t\t0, & \\text{ c.c.}\n",
    "\t\t\\end{array}\\right.$$\n",
    "> 2. extensão periódica\n",
    "\n",
    "$$\\tilde{x}_k = x_{k\\mod N},\\quad\\forall k\\in\\mathbb{Z}$$\n",
    "> 3. espelhamento + extensão periódica\n",
    "\n",
    "$$\\begin{align*}\n",
    "\t\t\\hat{x}_k &= \\left\\{\\begin{array}{ll}\n",
    "\t\t\tx_k, & k = 0, \\dots, N-1 \\\\\n",
    "\t\t\tx_{2N-k-1}, & k = N, \\dots, 2N-1 \n",
    "\t\t\\end{array}\\right. \\\\\n",
    "\t\t\\tilde{x}_k &= \\hat{x}_{k\\mod 2N},\\quad\\forall k\\in\\mathbb{Z}\n",
    "\t\\end{align*}$$"
   ]
  },
  {
   "cell_type": "markdown",
   "metadata": {
    "slideshow": {
     "slide_type": "subslide"
    }
   },
   "source": [
    "A extensão periódica do tipo 2 corresponde ao sinal\n",
    "\n",
    "$$\\ldots,x_{N-2},x_{N-1},\\overbrace{x_0,x_1,\\ldots,x_{N-2},x_{N-1}},x_0,x_1,\\ldots$$\n",
    "\n",
    "ao passo que a extensão do tipo 3 corresponde a\n",
    "\n",
    "$$\\ldots,x_{3},x_{2},x_1,x_0,\\overbrace{x_0,x_1,\\ldots,x_{N-2},x_{N-1}},x_{N-1},x_{N-2},\\ldots$$\n",
    "\n",
    "e é também chamada de *extensão simétrica de meio-ponto* pois o espelhamento ocorre entre duas amostras. Existe também a *extensão simétrica de ponto inteiro*:\n",
    "\n",
    "$$\\ldots,x_{3},x_{2},x_1,\\overbrace{x_0,x_1,\\ldots,x_{N-2},x_{N-1}},x_{N-2},\\ldots$$\n",
    "\n",
    "Observe que nenhuma dessas extensões geram sinais de energia finita (em $L^2(\\mathbb{Z})$). Será necessário fazer uma espécie de *gambiarra* para permitir o uso daquela teoria."
   ]
  },
  {
   "cell_type": "markdown",
   "metadata": {
    "slideshow": {
     "slide_type": "subslide"
    }
   },
   "source": [
    "### Extensões pseudo-periódicas\n",
    "\n",
    "As extensões 2 e 3 acima podem ser feitas um número finito de vezes, para garantir que $\\tilde{x}\\in L^2(\\mathbb{Z})$. A título de exemplo, desenvolveremos a DWT em $\\mathbb{C}^N$ a partir da extensão periódica (caso 2 acima). Trabalharemos com extensões que chamaremos de *pseudo-periódicas*: para $q$ \"grande o suficiente\" definiremos:\n",
    "\n",
    "\\begin{equation*}\n",
    "\t\\tilde{x}_k = \\left\\{\\begin{array}{ll}\n",
    "\t\tx_{k\\mod N}, & -qN\\leq k\\leq +qN \\\\\n",
    "\t\t0, & \\text{c.c.}\n",
    "\t\\end{array}\\right.\n",
    "\\end{equation*}"
   ]
  },
  {
   "cell_type": "markdown",
   "metadata": {
    "slideshow": {
     "slide_type": "slide"
    }
   },
   "source": [
    "### Análise da extensão periódica\n",
    "\n",
    "Por sua maior simplicidade, consideraremos a extensão periódica sem reflexões simétricas na análise do banco de filtros.\n",
    "\n",
    "**Teorema 7.5.1:** Seja $x\\in\\mathbb{C}^N$, e considere um banco de filtros $\\{l_a,h_a,l_s,h_s\\}$ que satisfaz a propriedade de reconstrução perfeita, onde todos os filtros tem $N$ ou menos coeficientes. Se interpretarmos esses filtros como elementos de $\\mathbb{C}^N$ tomando os índices módulo $N$, e se tomarmos todas as convoluções como convoluções circulares em $\\mathbb{C}^N$, então a transformação\n",
    "\n",
    "$$x\\mapsto X=(X_l,X_h)=(D(x*l_a),D(x*h_a))\\quad\\quad\\left(\\mathbb{C}^N\\mapsto\\mathbb{C}^N\\right)$$\n",
    "\n",
    "é inversível, e sua inversa é dada por\n",
    "\n",
    "$$X\\mapsto x=l_s*U(X_l)+h_s*U(X_h)\\quad\\quad\\left(\\mathbb{C}^N\\mapsto\\mathbb{C}^N\\right).$$"
   ]
  },
  {
   "cell_type": "markdown",
   "metadata": {
    "slideshow": {
     "slide_type": "subslide"
    }
   },
   "source": [
    "**Prova:** Mostraremos que a utilização da transformada baseada em um banco de filtros com reconstrução perfeita no sinal $\\tilde{x}\\in L^2(\\mathbb{Z})$ equivale à mesma sequência de operações em $\\mathbb{C}^N$ a partir de $x\\in\\mathbb{C}^N$, interpretando as convoluções como convoluções circulares. Pela propriedade de reconstrução perfeita em $L^2(\\mathbb{Z})$, temos que os sinais\n",
    "\n",
    "\\begin{align*}\n",
    "\t\\tilde{X}_l &= D(\\tilde{x}*l_a), \\\\\n",
    "\t\\tilde{X}_h &= D(\\tilde{x}*h_a),\n",
    "\\end{align*}\n",
    "\n",
    "onde $*$ é a convolução (linear) em $L^2(\\mathbb{Z})$, permitem a reconstrução de $\\tilde{x}$ através da expressão\n",
    "\n",
    "\\begin{equation*}\n",
    "\t\\tilde{x} = U(\\tilde{X}_l)*l_s + U(\\tilde{X}_h)*h_s.\n",
    "\\end{equation*}"
   ]
  },
  {
   "cell_type": "markdown",
   "metadata": {
    "slideshow": {
     "slide_type": "subslide"
    }
   },
   "source": [
    "Dado $x\\in\\mathbb{C}^N$, podemos definir\n",
    "\n",
    "\\begin{equation*}\n",
    "\tX_l = D(x*l_a)\\in\\mathbb{C}^{N/2}\n",
    "\\end{equation*}\n",
    "\n",
    "onde $*$ é a convolução circular\n",
    "\n",
    "$$(x*l_a)_n = \\sum\\limits_{k=0}^{N-1}(l_a)_k x_{n-k},$$\n",
    "\n",
    "e $D\\in\\mathbb{R}^{\\frac{N}{2}\\times N}$ é a matriz tal que $D_{i,2i}=1$ e $D_{i,j}=0$ caso contrário:\n",
    "\n",
    "$$\\begin{bmatrix}\n",
    "1&0&0&0&0&0&\\cdots&0\\\\\n",
    "0&0&1&0&0&0&\\cdots&0\\\\\n",
    "0&0&0&0&1&0&\\cdots&0\\\\\n",
    "\\vdots&&&&&&\\ddots&\\vdots\\\\\n",
    "0&0&0&0&0&0&\\cdots&1\n",
    "\\end{bmatrix}$$\n",
    "\n",
    "Analogamente, definimos\n",
    "\n",
    "\\begin{equation*}\n",
    "\tX_h = D(x*h_a)\\in\\mathbb{C}^{N/2}.\n",
    "\\end{equation*}"
   ]
  },
  {
   "cell_type": "markdown",
   "metadata": {
    "slideshow": {
     "slide_type": "subslide"
    }
   },
   "source": [
    "Na etapa de ressíntese, vamos combinar $X_l$ e $X_h$ através da expressão\n",
    "\n",
    "\\begin{equation*}\n",
    "\tU(X_l)*l_s + U(X_h)*h_s = \\hat{x}\n",
    "\\end{equation*}\n",
    "\n",
    "e $U = D^T\\in\\mathbb{R}^{N\\times\\frac{N}{2}}$.\n",
    "\n",
    "Queremos mostrar que $\\hat{x}$ (versão ressintetizada em domínio finito) é idêntico a $x$."
   ]
  },
  {
   "cell_type": "markdown",
   "metadata": {
    "slideshow": {
     "slide_type": "subslide"
    }
   },
   "source": [
    "Para fazer isso, vamos observar as correspondências entre $X_l$ e $\\tilde{X}_l$ e entre $X_{h}$ e $\\tilde{X}_h$. Note inicialmente que as convoluções linear (em $\\mathbb{Z}$) e circular (em $\\mathbb{C}^N$) coincidem nas amostras \"centrais\" $n=0,1,\\ldots,N-1$:\n",
    "\n",
    "\\begin{align*}\n",
    "\t(\\tilde{x}*l_a)_n &= \\sum\\limits_{-\\infty}^\\infty (l_a)_k\\tilde{x}_{n-k} & \\text{ (convolução linear)}\\\\\n",
    "\t &= \\sum\\limits_{k=0}^{N-1}(l_a)_k\\tilde{x}_{n-k}& \\\\\n",
    "\t&= \\sum\\limits_{k=0}^{N-1}(l_a)_k x_{(n-k\\ \\%\\ N)}&\\\\\n",
    "\t&= (x*l_a)_n & \\text{ (convolução circular)}\n",
    "\\end{align*}\n",
    "\n",
    "pois $(l_a)_k = 0\\text{ se }k\\not\\in\\{0, 1, \\dots, N-1\\}$ e $\\tilde{x}_{n-k}=x_{n-k}$ para $n,k\\in\\{0, 1, \\dots, N-1\\}$.\n",
    "\n",
    "Um argumento semelhante mostra que $(x*h_a)_n = (\\tilde{x}*h_a)_n$ para $n = 0, 1, \\dots, N-1$."
   ]
  },
  {
   "cell_type": "markdown",
   "metadata": {
    "slideshow": {
     "slide_type": "subslide"
    }
   },
   "source": [
    "A subamostragem $D$ preservará apenas as componentes de índice par, tanto no contexto infinito quanto no finito. Assim, a partir do conhecimento de $X_l, X_h\\in\\mathbb{C}^{N/2}$, podemos recuperar a informação completa de $\\tilde{X}_l, \\tilde{X}_h\\in L^2(\\mathbb{Z})$, sendo que\n",
    "\n",
    "\\begin{align*}\n",
    "\t(\\tilde{X}_l)_{n+kN/2} &= (X_l)_n,\\\\\n",
    "    (\\tilde{X}_h)_{n+kN/2} &= (X_h)_n,&\\text{ para }n = 0, 1, \\dots, \\frac{N}{2} - 1,\\ \\forall k\\in\\mathbb{Z}, n+kN/2\\in[-qN,+qN].\n",
    "\\end{align*}"
   ]
  },
  {
   "cell_type": "markdown",
   "metadata": {
    "slideshow": {
     "slide_type": "subslide"
    }
   },
   "source": [
    "Notando que as convoluções com os filtros $l_s,h_s$ de ressíntese possuem a mesma propriedade em relação às convoluções, podemos ver que, para $n=0,1,\\ldots,N-1$, o sinal $\\hat{x}\\in\\mathbb{C}^N$ reconstruído pela aplicação do banco de filtros em $\\mathbb{C}^N$ coincide com o sinal $\\tilde{x}\\in L^2(\\mathbb{Z})$ perfeitamente reconstruído em $L^2(\\mathbb{Z})$ e portanto com o sinal finito original $x\\in\\mathbb{C}^N$:\n",
    "\n",
    "\\begin{align*}\n",
    "\t\\hat{x}_n &= [U(X_l)*l_s + U(X_h)*h_s]_n &\\text{(convolução circular em $\\mathbb{C}^N$)} \\\\\n",
    "\t&= [U(X_l)*l_s]_n + [U(X_h)*h_s]_n\\\\\n",
    "\t&= [U(\\tilde{X}_l)*l_s]_n + [U(\\tilde{X}_h)*h_s]_n&\\text{(convolução linear em $L^2(\\mathbb{Z})$)} \\\\\n",
    "\t&= [U(\\tilde{X}_l)*l_s + U(\\tilde{X}_h)*h_s]_n \\\\\n",
    "\t&= \\tilde{x}_n &\\text{(reconstrução perfeita em $L^2(\\mathbb{Z})$)}\\\\\n",
    "\t&= x_n\n",
    "\\end{align*}"
   ]
  },
  {
   "cell_type": "markdown",
   "metadata": {
    "slideshow": {
     "slide_type": "slide"
    }
   },
   "source": [
    "**Exemplo 7.7:** considere a DWT com o banco de filtros de Haar ortogonalizado, que satisfaz $(l_s)_k = (l_a)_{-k}, \\forall k$ e $(h_s)_k = (h_a)_{-k}, \\forall k$, aplicada a um vetor $x\\in\\mathbb{C}^4$:\n",
    "\n",
    "\\begin{align*}\n",
    "\tX_l &= D(x*l_a) = D\\left(\\begin{pmatrix}\n",
    "\t\tx_0 \\\\ x_1 \\\\ x_2 \\\\ x_3\n",
    "\t\\end{pmatrix}*\\begin{pmatrix}\n",
    "\t\t\\frac{1}{\\sqrt{2}} \\\\ \\frac{1}{\\sqrt{2}} \\\\ 0 \\\\ 0\n",
    "\t\\end{pmatrix}\\right) = \\begin{pmatrix}\n",
    "\t\t\\frac{x_0}{\\sqrt{2}} + \\frac{x_3}{\\sqrt{2}} \\\\\n",
    "\t\t\\frac{x_2}{\\sqrt{2}} + \\frac{x_1}{\\sqrt{2}}\n",
    "\t\\end{pmatrix} \\\\\n",
    "\tX_h &= D(x*h_a) = D\\left(\\begin{pmatrix}\n",
    "\t\tx_0 \\\\ x_1 \\\\ x_2 \\\\ x_3\n",
    "\t\\end{pmatrix}*\\begin{pmatrix}\n",
    "\t\t\\frac{1}{\\sqrt{2}} \\\\ -\\frac{1}{\\sqrt{2}} \\\\ 0 \\\\ 0\n",
    "\t\\end{pmatrix}\\right) = \\begin{pmatrix}\n",
    "\t\t\\frac{x_0}{\\sqrt{2}} - \\frac{x_3}{\\sqrt{2}} \\\\\n",
    "\t\t\\frac{x_2}{\\sqrt{2}} - \\frac{x_1}{\\sqrt{2}}\n",
    "\t\\end{pmatrix}\n",
    "\\end{align*}"
   ]
  },
  {
   "cell_type": "markdown",
   "metadata": {
    "slideshow": {
     "slide_type": "subslide"
    }
   },
   "source": [
    "Assim\n",
    "\n",
    "\\begin{equation*}\n",
    "\tX = W_4^a\\begin{pmatrix}\n",
    "\t\tx_0 \\\\ x_1 \\\\ x_2 \\\\ x_3\n",
    "\t\\end{pmatrix}\n",
    "\\end{equation*}\n",
    "\n",
    "onde\n",
    "\n",
    "\\begin{equation*}\n",
    "\tW_4^a = \\begin{pmatrix}\n",
    "\t\t\\frac{1}{\\sqrt{2}} & 0 & 0 & \\frac{1}{\\sqrt{2}} \\\\\n",
    "\t\t0 & \\frac{1}{\\sqrt{2}} & \\frac{1}{\\sqrt{2}} & 0 \\\\\n",
    "\t\t\\frac{1}{\\sqrt{2}} & 0 & 0 & -\\frac{1}{\\sqrt{2}} \\\\\n",
    "\t\t0 & -\\frac{1}{\\sqrt{2}} & \\frac{1}{\\sqrt{2}} & 0\n",
    "\t\\end{pmatrix}.\n",
    "\\end{equation*}"
   ]
  },
  {
   "cell_type": "markdown",
   "metadata": {
    "slideshow": {
     "slide_type": "subslide"
    }
   },
   "source": [
    "### Exemplo 7.8\n",
    "\n",
    "Na ressíntese, temos $x = U(X_l)*l_s + U(X_h)*h_s$:\n",
    "\n",
    "\\begin{equation*}\n",
    "\tx = \\begin{pmatrix}\n",
    "\t\tX_0 \\\\ 0 \\\\ X_1 \\\\ 0\n",
    "\t\\end{pmatrix}*\\begin{pmatrix}\n",
    "\t\t\\frac{1}{\\sqrt{2}} \\\\ 0 \\\\ 0 \\\\ \\frac{1}{\\sqrt{2}}\n",
    "\t\\end{pmatrix} + \\begin{pmatrix}\n",
    "\t\tX_2 \\\\ 0 \\\\ X_3 \\\\ 0\n",
    "\t\\end{pmatrix}*\\begin{pmatrix}\n",
    "\t\t\\frac{1}{\\sqrt{2}} \\\\ 0 \\\\ 0 \\\\ -\\frac{1}{\\sqrt{2}}\n",
    "\t\\end{pmatrix}\n",
    "\t= \\begin{pmatrix}\n",
    "\t\t\\frac{X_0}{\\sqrt{2}} \\\\ \\frac{X_1}{\\sqrt{2}} \\\\ \\frac{X_1}{\\sqrt{2}} \\\\ \\frac{X_0}{\\sqrt{2}}\n",
    "\t\\end{pmatrix} + \\begin{pmatrix}\n",
    "\t\t\\frac{X_2}{\\sqrt{2}} \\\\ -\\frac{X_3}{\\sqrt{2}} \\\\ \\frac{X_3}{\\sqrt{2}} \\\\ -\\frac{X_2}{\\sqrt{2}}\n",
    "\t\\end{pmatrix}\n",
    "\t= \\begin{pmatrix}\n",
    "\t\t\\frac{X_0 + X_2}{\\sqrt{2}} \\\\ \\frac{X_1 - X_3}{\\sqrt{2}} \\\\ \\frac{X_1 + X_3}{\\sqrt{2}} \\\\ \\frac{X_0 - X_2}{\\sqrt{2}}\n",
    "\t\\end{pmatrix}\n",
    "\\end{equation*}"
   ]
  },
  {
   "cell_type": "markdown",
   "metadata": {
    "slideshow": {
     "slide_type": "subslide"
    }
   },
   "source": [
    "ou seja,\n",
    "\n",
    "$$x=W_4^s\\begin{pmatrix}\n",
    "\t\tX_0 \\\\ X_1 \\\\ X_2 \\\\ X_3\n",
    "\t\\end{pmatrix}$$\n",
    "\n",
    "onde\n",
    "\n",
    "\\begin{equation*}\n",
    "\tW_4^s = \\begin{pmatrix}\n",
    "\t\t\\frac{1}{\\sqrt{2}} & 0 & \\frac{1}{\\sqrt{2}} & 0 \\\\\n",
    "\t\t0 & \\frac{1}{\\sqrt{2}} & 0 & -\\frac{1}{\\sqrt{2}} \\\\\n",
    "\t\t0 & \\frac{1}{\\sqrt{2}} & 0 & \\frac{1}{\\sqrt{2}} \\\\\n",
    "\t\t\\frac{1}{\\sqrt{2}} & 0 & -\\frac{1}{\\sqrt{2}} & 0\n",
    "\t\\end{pmatrix}\n",
    "\\end{equation*}"
   ]
  },
  {
   "cell_type": "markdown",
   "metadata": {
    "slideshow": {
     "slide_type": "subslide"
    }
   },
   "source": [
    "Observe que:\n",
    "\n",
    "> - $W_4^s = (W_4^a)^T$\n",
    "> - todas as colunas (e linhas) de $W_4^s$ e $W_4^a$ são ortogonais (2 a 2)\n",
    "\n",
    "\n",
    "Logo\n",
    "\n",
    "\\begin{align*}\n",
    "\tW_4^s W_4^a &= I & \\text{ (pois a IDWT é a inversa da DWT)} \\\\\n",
    "\tW_4^a (W_4^a)^T &= I & \\text{ (ortonormalidade do banco de filtros)}\n",
    "\\end{align*}"
   ]
  },
  {
   "cell_type": "markdown",
   "metadata": {
    "slideshow": {
     "slide_type": "slide"
    }
   },
   "source": [
    "### Seção 7.5.3: Formulação Matricial da DWT em $\\mathbb{C}^N$\n",
    "\n",
    "**DWT (Análise):** dado $x\\in\\mathbb{C}^N$,\n",
    "\n",
    "\\begin{align*}\n",
    "\tX &= \\begin{bmatrix}\n",
    "\t\tX_l \\\\ X_h\n",
    "\t\\end{bmatrix} \\\\\n",
    "\t&= \\begin{bmatrix}\n",
    "\t\tD(x*l_a) \\\\ D(x*h_a)\n",
    "\t\\end{bmatrix} \\\\\n",
    "\t&= \\begin{bmatrix}\n",
    "\t\tDM_{l_a}x \\\\ DM_{h_a}x\n",
    "\t\\end{bmatrix} \\\\\n",
    "\t&= \\begin{bmatrix}\n",
    "\t\tDM_{l_a} \\\\ DM_{h_a}\n",
    "\t\\end{bmatrix}x \\\\\n",
    "\t&= W_N^a x\n",
    "\\end{align*}"
   ]
  },
  {
   "cell_type": "markdown",
   "metadata": {
    "slideshow": {
     "slide_type": "subslide"
    }
   },
   "source": [
    "**IDWT (Síntese):** dado $X\\in\\mathbb{C}^N$,\n",
    "\n",
    "\\begin{align*}\n",
    "\tx &= U(X_l)*l_s + U(X_h)*h_s \\\\\n",
    "\t&= M_{l_s}UX_l + M_{h_s}UX_h \\\\\n",
    "\t&= \\begin{bmatrix}\n",
    "\t\tM_{l_s}U & M_{h_s}U\n",
    "\t\\end{bmatrix}\\begin{bmatrix}\n",
    "\t\tX_l \\\\ X_h\n",
    "\t\\end{bmatrix} \\\\\n",
    "\t&= W_N^s X\n",
    "\\end{align*}"
   ]
  },
  {
   "cell_type": "markdown",
   "metadata": {
    "slideshow": {
     "slide_type": "slide"
    }
   },
   "source": [
    "#### Bancos de filtros adjuntos = bancos de filtros ortogonais\n",
    "\n",
    "Se um banco de filtros possui a propriedade\n",
    "\n",
    "\\begin{align*}\n",
    "\t(l_s)_k &= (l_a)_{-k},\\quad\\quad \\forall k \\\\\n",
    "\t(h_s)_k &= (h_a)_{-k},\\quad\\quad \\forall k\n",
    "\\end{align*}\n",
    "\n",
    "sendo denominados *filtros adjuntos* (ou *revertidos no tempo*), pode-se verificar (exercício 4.9) que\n",
    "\n",
    "\\begin{align*}\n",
    "\tM_{l_s} &= (M_{l_a})^T \\\\\n",
    "\tM_{h_s} &= (M_{h_a})^T.\n",
    "\\end{align*}\n",
    "\n",
    "Veremos a seguir como essas propriedades conferem a propriedade de **ortogonalidade** ao banco de filtros."
   ]
  },
  {
   "cell_type": "markdown",
   "metadata": {
    "slideshow": {
     "slide_type": "subslide"
    }
   },
   "source": [
    "Relembrando o fato que $U=D^T$, e usando as propriedades dos filtros adjuntos ($M_{l_s}=M_{l_a}^T$ e $M_{h_s}=M_{h_a}^T$), temos\n",
    "\n",
    "\\begin{align*}\n",
    "\tW_N^s &= \\begin{bmatrix}\n",
    "\t\tM_{l_s}U & M_{h_s}U\n",
    "\t\\end{bmatrix} \\\\\n",
    "\t&= \\begin{bmatrix}\n",
    "\t\t(U^TM_{l_s}^T)^T & (U^TM_{h_s}^T)^T\n",
    "\t\\end{bmatrix} \\\\\n",
    "\t&= \\begin{bmatrix}\n",
    "\t\t(DM_{l_a})^T & (DM_{h_a})^T\n",
    "\t\\end{bmatrix} \\\\\n",
    "\t&= \\begin{bmatrix}\n",
    "\t\tDM_{l_a} \\\\ DM_{h_a}\n",
    "\t\\end{bmatrix}^T \\\\\n",
    "\t&= (W_N^a)^T\n",
    "\\end{align*}\n",
    "\n",
    "Em outras palavras, a matriz que representa a transformada de síntese para um banco de filtros adjuntos, além de ser a matriz **inversa** daquela que representa a transformada direta, **também é sua transposta**."
   ]
  },
  {
   "cell_type": "markdown",
   "metadata": {
    "slideshow": {
     "slide_type": "subslide"
    }
   },
   "source": [
    "\n",
    "A propriedade\n",
    "\n",
    "$$W_N^s = (W_N^a)^{-1} = (W_N^a)^T$$\n",
    "\n",
    "implica em\n",
    "\n",
    "$$W_N^a(W_N^a)^T = \n",
    "\\left[\\begin{array}{ccc}\n",
    "&W_0^T&\\\\\\hline&W_1^T&\\\\\\hline&\\vdots&\\\\\\hline&W_{N-1}^T&\n",
    "\\end{array}\\right]\\left[\\begin{array}{c|c|c|c}\\\\\n",
    "W_0&W_1&\\cdots&W_{N-1}\\\\\\\\\n",
    "\\end{array}\\right]\n",
    "= I,$$\n",
    "\n",
    "de onde \n",
    "\n",
    "$$\n",
    "(W_k,W_l)=\\left\\{\\begin{array}{ll}\n",
    "1,&k=l,\\\\\n",
    "0,&k\\neq l\n",
    "\\end{array}\\right.\n",
    "$$\n",
    "\n",
    "ou seja, as matrizes $W_N^s$ e $W_N^a$ são matrizes *unitárias*, e suas linhas e colunas formam *bases ortonormais* para $\\mathbb{C}^N$. "
   ]
  },
  {
   "cell_type": "markdown",
   "metadata": {
    "slideshow": {
     "slide_type": "subslide"
    }
   },
   "source": [
    "Em particular, da equação de síntese\n",
    "\n",
    "$$x = W_N^sX = \\left[\\begin{array}{c|c|c|c}\\\\\n",
    "W_0&W_1&\\cdots&W_{N-1}\\\\\\\\\n",
    "\\end{array}\\right]X = \\sum_{k=0}^{N-1}W_kX_k,$$\n",
    "\n",
    "vemos que a base ortonormal formada pelas colunas $\\{W_k\\}$ de $W_N^s$ (=linhas de $W_N^a$) corresponde às formas básicas de onda usadas pela DWT.\n",
    "\n",
    "Adicionalmente, vemos pela equação de análise\n",
    "\n",
    "$$X=W_N^ax=(W_N^s)^Tx=\\left[\\begin{array}{ccc}\n",
    "W_0^T\\\\W_1^T\\\\\\vdots\\\\W_{N-1}^T\n",
    "\\end{array}\\right]x = \\left[\\begin{array}{ccc}\n",
    "W_0^Tx\\\\W_1^Tx\\\\\\vdots\\\\W_{N-1}^Tx\n",
    "\\end{array}\\right] = \\left[\\begin{array}{c}\n",
    "(x,W_0)\\\\(x,W_1)\\\\\\vdots\\\\(x,W_{N-1})\n",
    "\\end{array}\\right]$$\n",
    "\n",
    "que cada coeficiente $X_k$ da DWT é definido pelo produto interno entre $x$ e a $k$-ésima forma básica de onda da DWT, como ocorria nas outras transformadas que estudamos."
   ]
  },
  {
   "cell_type": "markdown",
   "metadata": {
    "slideshow": {
     "slide_type": "slide"
    }
   },
   "source": [
    "### Seção 7.5.4: Formulação Matricial da DWT de Vários Níveis\n",
    "\n",
    "### DWT de 2 níveis\n",
    "\n",
    "Lembrando do diagrama\n",
    "\n",
    "$$x\\mapsto\n",
    "\\left[\\begin{array}{c}\n",
    "X_{l}\\\\\n",
    "X_{h}\n",
    "\\end{array}\\right]\\mapsto\n",
    "\\left[\\begin{array}{c}\n",
    "X_{ll}\\\\\n",
    "X_{lh}\\\\\n",
    "X_{h}\n",
    "\\end{array}\\right]$$\n",
    "\n",
    "podemos escrever\n",
    "\n",
    "\\begin{equation*}\n",
    "\tX^{(2)} = \\overbrace{\\begin{pmatrix}\n",
    "\t\tW_{N/2}^a & 0 \\\\\n",
    "\t\t0 & I\n",
    "\t\\end{pmatrix}W_N^a}^{W_N^{a,(2)}}x= W_N^{a,(2)}x.\n",
    "\\end{equation*}\n",
    "\n",
    "**Observe** que as últimas $N/2$ linhas de $W_N^{a,(2)}$ são idênticas às de $W_N^a$ (associada aos coeficientes $X_h$), sendo que apenas as primeiras $N/2$ linhas diferem (pela multiplicação por $W_{N/2}^a$)."
   ]
  },
  {
   "cell_type": "markdown",
   "metadata": {
    "slideshow": {
     "slide_type": "subslide"
    }
   },
   "source": [
    "### DWT de 3 níveis\n",
    "\n",
    "$$x\\mapsto\n",
    "\\left[\\begin{array}{c}\n",
    "X_{l}\\\\\n",
    "X_{h}\n",
    "\\end{array}\\right]\\mapsto\n",
    "\\left[\\begin{array}{c}\n",
    "X_{ll}\\\\\n",
    "X_{lh}\\\\\n",
    "X_{h}\n",
    "\\end{array}\\right]\\mapsto\n",
    "\\left[\\begin{array}{c}\n",
    "X_{lll}\\\\\n",
    "X_{llh}\\\\\n",
    "X_{lh}\\\\\n",
    "X_{h}\n",
    "\\end{array}\\right]$$\n",
    "\n",
    "\\begin{equation*}\n",
    "\tX^{(3)} = \\overbrace{\\begin{pmatrix}\n",
    "\t\tW_{N/4}^a & 0 & 0 \\\\\n",
    "\t\t0 & I & 0  \\\\\n",
    "\t\t0 & 0 & I \n",
    "\t\\end{pmatrix}W_N^{a,(2)}}^{W_N^{a,(3)}}x= W_N^{a,(3)}x\n",
    "\\end{equation*}\n",
    "\n",
    "**Observe** que as últimas $3N/4$ linhas de $W_N^{a,(3)}$ são idênticas às de $W_N^{a,(2)}$ e de $W_N^{a}$ (pois estão associadas aos coeficientes $X_{lh},X_h$), sendo que apenas as primeiras $N/4$ linhas diferem (pela multiplicação por $W_{N/4}^a$).\n",
    "\n",
    "**Observação:** é possível generalizar esse processo por indução."
   ]
  },
  {
   "cell_type": "markdown",
   "metadata": {
    "slideshow": {
     "slide_type": "slide"
    }
   },
   "source": [
    "### Custo de implementação da DWT de vários níveis\n",
    "\n",
    "É fácil ver que o custo de implementação da DWT, independentemente do número de níveis, \n",
    "é sempre **linear**, se considerarmos que os filtros têm uma quantidade pequena $\\mathcal{O}(1)$ de coeficientes.\n",
    "\n",
    "Isso ocorre pois cada estágio terá custo linear (limitado por $\\alpha L$) na quantidade $L$ de coeficientes processados, e essa quantidade será $L=N$ no 1° estágio, $L=N/2$ no 2° estágio, e assim por diante, logo o custo total será limitado por\n",
    "\n",
    "$$\\alpha\\left(N+\\frac{N}{2}+\\frac{N}{4}+\\cdots\\right)\\le \\alpha 2 N.$$"
   ]
  },
  {
   "cell_type": "markdown",
   "metadata": {
    "slideshow": {
     "slide_type": "slide"
    }
   },
   "source": [
    "### Exemplo 7.9\n",
    "\n",
    "Voltamos ao sinal do exemplo 7.2, para inspecionar as transformadas de vários estágios:\n",
    "\n",
    "$$\\begin{array}{llllllll}\n",
    "X^{(1)}=&(&X_{l},&&&&X_h&)\\\\\n",
    "X^{(2)}=&(&X_{ll},&&&X_{lh},&X_h&)\\\\\n",
    "X^{(3)}=&(&X_{lll},&&X_{llh},&X_{lh},&X_h&)\\\\\n",
    "X^{(4)}=&(&X_{llll},&X_{lllh},&X_{llh},&X_{lh},&X_h&)\n",
    "\\end{array}$$"
   ]
  },
  {
   "cell_type": "code",
   "execution_count": null,
   "metadata": {
    "slideshow": {
     "slide_type": "skip"
    }
   },
   "outputs": [],
   "source": [
    "N = 1024;x = np.zeros(1024);x[0:350] = np.sin(2 * m.pi * 12 *  np.arange(0, 1, 1/N)[:350]) \n",
    "x[350:500] = 0.8 * np.ones(150);x[500:800] = 0.3 * np.ones(300)\n",
    "\n",
    "def plotdwt(j):\n",
    "    fig, ax = plt.subplots(1,1, figsize=(15, 3))\n",
    "    coeffs = pywt.wavedec(x, 'haar', level=j)\n",
    "    ax.plot(np.concatenate(coeffs))\n",
    "    if j>0:\n",
    "        ax.set_title(f\"DWT (Haar) de {j} etapa(s)\")\n",
    "    else:\n",
    "        ax.set_title(f\"Sinal original\")\n",
    "    plt.show()"
   ]
  },
  {
   "cell_type": "code",
   "execution_count": null,
   "metadata": {
    "slideshow": {
     "slide_type": "subslide"
    }
   },
   "outputs": [],
   "source": [
    "plotdwt(0)\n",
    "plotdwt(1)"
   ]
  },
  {
   "cell_type": "code",
   "execution_count": null,
   "metadata": {
    "slideshow": {
     "slide_type": "subslide"
    }
   },
   "outputs": [],
   "source": [
    "plotdwt(2)\n",
    "plotdwt(3)"
   ]
  },
  {
   "cell_type": "code",
   "execution_count": null,
   "metadata": {
    "slideshow": {
     "slide_type": "subslide"
    }
   },
   "outputs": [],
   "source": [
    "plotdwt(4)\n",
    "plotdwt(5)"
   ]
  },
  {
   "cell_type": "markdown",
   "metadata": {
    "slideshow": {
     "slide_type": "slide"
    }
   },
   "source": [
    "### Reconstrução da DWT por camadas\n",
    "\n",
    "No primeiro nível da DWT, temos\n",
    "\n",
    "\\begin{array}{llll}\n",
    "\tx & = W_N^s\\begin{pmatrix}\n",
    "\t\tX_l \\\\ X_h\n",
    "\t\\end{pmatrix}\\\\\n",
    "\t&= W_N^s \\begin{pmatrix}\n",
    "\t\tX_l \\\\ 0\n",
    "\t\\end{pmatrix} &+& W_N^s \\begin{pmatrix}\n",
    "\t\t0 \\\\ X_h\n",
    "\t\\end{pmatrix}\\\\\n",
    "    &= \\alpha_1(x) &+& \\delta_1(x)\n",
    "\\end{array}\n",
    "\n",
    "onde $\\alpha_1$ é a reconstrução usando *apenas* os coeficientes de aproximação (como se $X_h$ fosse $=0$), e $\\delta_1$ a reconstrução usando *apenas* os coeficientes de detalhes (como se $X_l$ fosse $=0$). Chamamos as reconstruções $\\alpha_1$ e $\\delta_1$ de aproximação e detalhes de 1$^a$ ordem."
   ]
  },
  {
   "cell_type": "markdown",
   "metadata": {
    "slideshow": {
     "slide_type": "subslide"
    }
   },
   "source": [
    "Considere agora a DWT de segunda ordem. Podemos escrever\n",
    "\n",
    "\\begin{align*}\n",
    "\tx &= W_N^{s,(2)}\\left(\\begin{pmatrix}\n",
    "\t\tX_{ll} \\\\ 0 \\\\ 0\n",
    "\t\\end{pmatrix} + \\begin{pmatrix}\n",
    "\t\t0 \\\\ X_{lh} \\\\ 0\n",
    "\t\\end{pmatrix} + \\begin{pmatrix}\n",
    "\t\t0 \\\\ 0 \\\\ X_h\n",
    "\t\\end{pmatrix}\\right) \\\\\n",
    "\t&= W_N^{s,(2)}\\begin{pmatrix}\n",
    "\t\tX_{ll} \\\\ 0 \\\\ 0\n",
    "\t\\end{pmatrix} + W_N^{s,(2)}\\begin{pmatrix}\n",
    "\t\t0 \\\\ X_{lh} \\\\ 0\n",
    "\t\\end{pmatrix} + W_N^{s}\\begin{pmatrix}\n",
    "\t\t0 \\\\ 0 \\\\ X_h\n",
    "\t\\end{pmatrix} \\\\\n",
    "\t&= \\alpha_2(x) + \\delta_2(x) + \\delta_1(x)\n",
    "\\end{align*}\n",
    "\n",
    "onde $\\alpha_2(x)$ é chamado de aproximação de 2$^a$ ordem, $\\delta_2(x)$ são os detalhes de 2$^a$ ordem e $\\delta_1(x)$ os detalhes de 1$^a$ ordem."
   ]
  },
  {
   "cell_type": "markdown",
   "metadata": {
    "slideshow": {
     "slide_type": "subslide"
    }
   },
   "source": [
    "No caso da DWT de terceira ordem, temos\n",
    "\n",
    "\\begin{align*}\n",
    "\tx &= W_N^{s,(3)}\\begin{pmatrix}\n",
    "\t\tX_{lll} \\\\ 0 \\\\ 0 \\\\ 0\n",
    "\t\\end{pmatrix} + W_N^{s,(3)}\\begin{pmatrix}\n",
    "\t\t0 \\\\ X_{llh} \\\\ 0 \\\\ 0\n",
    "\t\\end{pmatrix} + W_N^{s,(2)}\\begin{pmatrix}\n",
    "\t\t0 \\\\ 0 \\\\ X_{lh} \\\\ 0\n",
    "\t\\end{pmatrix} + W_N^s\\begin{pmatrix}\n",
    "\t\t0 \\\\ 0 \\\\ 0 \\\\ X_{h}\n",
    "\t\\end{pmatrix} \\\\\n",
    "\t&= \\alpha_3(x) + \\delta_3(x) + \\delta_2(x) + \\delta_1(x)\n",
    "\\end{align*}"
   ]
  },
  {
   "cell_type": "markdown",
   "metadata": {
    "slideshow": {
     "slide_type": "subslide"
    }
   },
   "source": [
    "e em geral\n",
    "\n",
    "\\begin{equation*}\n",
    "\t\\alpha_r(x) = \\alpha_{r+1}(x) + \\delta_{r+1}(x)\n",
    "\\end{equation*}\n",
    "\n",
    "ou\n",
    "\n",
    "\\begin{equation*}\n",
    "\t\\alpha_{r+1}(x) = \\alpha_r(x) - \\delta_{r+1}(x)\n",
    "\\end{equation*}"
   ]
  },
  {
   "cell_type": "markdown",
   "metadata": {
    "slideshow": {
     "slide_type": "slide"
    }
   },
   "source": [
    "## Figuras 7.14 e 7.15\n",
    "\n",
    "Neste exemplo veremos mais uma vez as reconstruções do sinal do exemplo 7.2, usando apenas os coeficientes de aproximação de ordem $M$."
   ]
  },
  {
   "cell_type": "code",
   "execution_count": null,
   "metadata": {
    "slideshow": {
     "slide_type": "skip"
    }
   },
   "outputs": [],
   "source": [
    "# Função para calcular a distorção\n",
    "def distortion(x,l):                                                            \n",
    "    return np.linalg.norm(x-l)**2/ np.linalg.norm(x)**2\n",
    "\n",
    "r = Dropdown(options=[(t,t) for t in pywt.wavelist(kind='discrete')], value='haar', \n",
    "             description='Familias de Wavelet: ', style={'description_width': 'initial'})\n",
    "\n",
    "# Wavelets utlizadas no livro: Haar -> haar; Daubechies 4-Tap -> db2; LeGall 5/3 -> bior2.2\n",
    "def plot_reconstruction(family):\n",
    "    fig, ax = plt.subplots(2 ,2, figsize=(15, 8))\n",
    "    gs = ax[0, 0].get_gridspec()\n",
    "\n",
    "    for j in range(4):\n",
    "        coef = pywt.wavedec(x, family, mode='zero', level=j+1)\n",
    "        #reconstroi apenas utilizando os coeficientes de aproximação para o nivel j+1\n",
    "        y = pywt.upcoef('a', coef[0], family, level=j+1, take=len(x))\n",
    "        index = j // 2, j % 2\n",
    "        ax[index].plot(y)\n",
    "        ax[index].set_title(f\"Aproximação de {j+1}$^a$ ordem: erro = {100*distortion(x,y):2.2f}%\")\n",
    "        ax[index].set_ylabel('amplitude')               \n",
    "    plt.show()"
   ]
  },
  {
   "cell_type": "code",
   "execution_count": null,
   "metadata": {
    "slideshow": {
     "slide_type": "subslide"
    }
   },
   "outputs": [],
   "source": [
    "interactive(plot_reconstruction, family=r,)"
   ]
  }
 ],
 "metadata": {
  "celltoolbar": "Slideshow",
  "kernelspec": {
   "display_name": "Python 3",
   "language": "python",
   "name": "python3"
  },
  "language_info": {
   "codemirror_mode": {
    "name": "ipython",
    "version": 3
   },
   "file_extension": ".py",
   "mimetype": "text/x-python",
   "name": "python",
   "nbconvert_exporter": "python",
   "pygments_lexer": "ipython3",
   "version": "3.7.11"
  }
 },
 "nbformat": 4,
 "nbformat_minor": 2
}
