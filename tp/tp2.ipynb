{
 "cells": [
  {
   "cell_type": "code",
   "execution_count": 20,
   "metadata": {},
   "outputs": [],
   "source": [
    "import numpy as np\n",
    "import math as m\n"
   ]
  },
  {
   "cell_type": "code",
   "execution_count": 21,
   "metadata": {},
   "outputs": [
    {
     "name": "stdout",
     "output_type": "stream",
     "text": [
      "O conjunto é ortogonal.\n"
     ]
    }
   ],
   "source": [
    "# Exercício 1(a)\n",
    "\n",
    "v1 = np.array([1,1,0], dtype=float)\n",
    "v2 = np.array([-1,1,1], dtype=float)\n",
    "v3 = np.array([1,-1,2], dtype=float)\n",
    "S = [v1, v2, v3]\n",
    "\n",
    "for i in range(len(S)):\n",
    "  for j in range(i+1,len(S)):\n",
    "    inner = np.inner(S[i], S[j])\n",
    "    assert np.linalg.norm(inner) < 1e-12\n",
    "\n",
    "print(\"O conjunto é ortogonal.\")"
   ]
  },
  {
   "cell_type": "code",
   "execution_count": 22,
   "metadata": {},
   "outputs": [
    {
     "name": "stdout",
     "output_type": "stream",
     "text": [
      "coefs =  [3.499999999999999, 2.0000000000000004, 1.5000000000000002]\n",
      "a =  [0. 0. 0.]\n",
      "[3.5 3.5 0. ]\n",
      "[1.5 5.5 2. ]\n",
      "[3. 4. 5.]\n",
      "A condição é satisfeita.\n"
     ]
    }
   ],
   "source": [
    "# Exercício 1(b)\n",
    "\n",
    "x = np.array([3,4,5], dtype=float)\n",
    "coefs  = []\n",
    "\n",
    "# calcula os coeficientes do novo vetor a\n",
    "for i in range(len(v1)):\n",
    "  coef = np.inner(x,S[i])/(np.linalg.norm(S[i]))**2\n",
    "  coefs.append(coef)\n",
    "\n",
    "# multiplica os coeficientes pelos vetores da base S\n",
    "a = np.zeros(len(S), dtype=float)\n",
    "print(\"coefs = \", coefs)\n",
    "print(\"a = \", a)\n",
    "for i in range(len(S)):\n",
    "  a = a + coefs[i]*S[i]\n",
    "  print(a)\n",
    "\n",
    "assert np.allclose(a,x,atol=1e-12)\n",
    "\n",
    "print(\"A condição é satisfeita.\")"
   ]
  },
  {
   "cell_type": "code",
   "execution_count": 25,
   "metadata": {},
   "outputs": [
    {
     "name": "stdout",
     "output_type": "stream",
     "text": [
      "[array([0.70710678, 0.70710678, 0.        ]), array([-0.57735027,  0.57735027,  0.57735027]), array([ 0.40824829, -0.40824829,  0.81649658])]\n",
      "coefs =  [4.949747468305833, 3.464101615137755, 3.6742346141747677]\n",
      "a2 =  [0. 0. 0.]\n",
      "[3.5 3.5 0. ]\n",
      "[1.5 5.5 2. ]\n",
      "[3. 4. 5.]\n",
      "A condição é satisfeita.\n"
     ]
    }
   ],
   "source": [
    "# Exercícios 1(c) e (d)\n",
    "\n",
    "S2 = []\n",
    "\n",
    "for i in range(len(S)):\n",
    "  S2.append(S[i]/np.linalg.norm(S[i]))\n",
    "\n",
    "print(S2)\n",
    "\n",
    "coefs  = []\n",
    "\n",
    "# calcula os coeficientes do novo vetor a'\n",
    "for i in range(len(S2[0])):\n",
    "  coef = np.inner(x,S2[i])/(np.linalg.norm(S2[i]))**2\n",
    "  coefs.append(coef)\n",
    "\n",
    "# multiplica os coeficientes pelos vetores da base S\n",
    "a2 = np.zeros(len(S2), dtype=float)\n",
    "print(\"coefs = \", coefs)\n",
    "print(\"a2 = \", a2)\n",
    "for i in range(len(S2)):\n",
    "  a2 = a2 + coefs[i]*S2[i]\n",
    "  print(a2)\n",
    "\n",
    "assert np.allclose(a2,x,atol=1e-12)\n",
    "\n",
    "print(\"A condição é satisfeita.\")"
   ]
  },
  {
   "cell_type": "code",
   "execution_count": null,
   "metadata": {},
   "outputs": [],
   "source": []
  }
 ],
 "metadata": {
  "kernelspec": {
   "display_name": "Python 3",
   "language": "python",
   "name": "python3"
  },
  "language_info": {
   "codemirror_mode": {
    "name": "ipython",
    "version": 3
   },
   "file_extension": ".py",
   "mimetype": "text/x-python",
   "name": "python",
   "nbconvert_exporter": "python",
   "pygments_lexer": "ipython3",
   "version": "3.10.12"
  },
  "orig_nbformat": 4
 },
 "nbformat": 4,
 "nbformat_minor": 2
}
