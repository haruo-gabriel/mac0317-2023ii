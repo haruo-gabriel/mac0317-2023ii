{
 "cells": [
  {
   "cell_type": "code",
   "execution_count": 2,
   "metadata": {},
   "outputs": [],
   "source": [
    "import math as m\n",
    "import numpy as np\n",
    "from numpy.fft import fft,ifft\n",
    "\n",
    "# convoulução circular usando FFT\n",
    "def cconv(x,h):\n",
    "  hpad = np.zeros(len(x))\n",
    "  hpad[:len(h)] = h\n",
    "  return np.real(ifft(fft(x)*fft(hpad)))"
   ]
  },
  {
   "cell_type": "code",
   "execution_count": 6,
   "metadata": {},
   "outputs": [],
   "source": [
    "# DWT ortogonal de Haar com M estágios\n",
    "# OBs: essa mesma implementação serve para outros bancos de filtros, sendo que, se\n",
    "# forem causais, apenas as duas linhas que definem la e ha precisam ser alteradas.\n",
    "# Se os filtros não forem causais, será necessário fazer um shift circiular das saídas\n",
    "# das convoluções usando a função np.roll(..., -L), onde L é o número de coeficientes\n",
    "# do filtro com índices negativos\n",
    "def dwt_haar(x, M=1):\n",
    "  # filtros de análise de Haar (definidos para n=0,1)\n",
    "  c = m.sqrt(2)/2\n",
    "  la = np.array([c,c]) # filtro passa-baixas\n",
    "  ha = np.array([c,-c]) # filtro passa-altas\n",
    "  # inicializa vetor X de saída com uma cópia de x\n",
    "  N = len(x)\n",
    "  X = np.ndarray(np.shape(x))\n",
    "  X[:] = x\n",
    "  # em cada estágio j, codificaremos o vetor\n",
    "  # y = X_{ll...l} = coefs de aproximação do estágio anterior\n",
    "  for j in range(M):\n",
    "    y = X.copy()[:N] # seleciona o trecho a codificar\n",
    "    X[:N//2] = cconv(y,la)[::2] # Xl = D(x*l)\n",
    "    X[N//2:N] = cconv(y,ha)[::2] # Xh = D(x*h)\n",
    "    N = N//2 # próximo estágio processará metade do vetor\n",
    "  return X"
   ]
  },
  {
   "cell_type": "code",
   "execution_count": null,
   "metadata": {},
   "outputs": [],
   "source": [
    "\n",
    "# IDWT ortogonal de Haar com M estágios\n",
    "# Obs: essa mesma implementação serve para outros bancos de filtros. Para o banco\n",
    "# de filtros de Haar, cada filtro de síntese possui L=1 coeficientes com índices\n",
    "# negativos, e por isso as saídas das convoluções são corrigidas por um shift\n",
    "# circular usando a função np.roll(..., L).\n",
    "def idwt_haar(X, M=1):\n",
    "  # filtros de análise de Haar (definidos para n=-1,0)\n",
    "  c = m.sqrt(2)/2\n",
    "  ls = np.array([c,c]) # filtro passa-baixas\n",
    "  hs = np.array([-c,c]) # filtro passa-altas\n",
    "  # inicializa vetor x de saída\n",
    "  x = X.copy()\n",
    "  # começa a reconstrução do último nível\n",
    "  n = len(X)//2**M\n",
    "  for j in range(M,0,-1):\n",
    "    # coeficientes de aproximação e detalhes do nível j\n",
    "    cA, cD = x[:n], x[n:2*n]\n",
    "    # superamostragem\n",
    "    UXl = np.zeros(2*n); UXl[::2] = cA\n",
    "    UXh = np.zeros(2*n); UXh[::2] = cD\n",
    "    # filtragem (a função np.roll ajusta o shift dos filtros de síntese)\n",
    "    vl, vh = np.roll(cconv(UXl, ls), -1), np.roll(cconv(UXh, hs), -1)\n",
    "    x[:2*n] = vl+vh # combina canais\n",
    "    n = n*2 # próximo nível terá o dobro dos coeficientes\n",
    "  return X"
   ]
  }
 ],
 "metadata": {
  "kernelspec": {
   "display_name": "Python 3",
   "language": "python",
   "name": "python3"
  },
  "language_info": {
   "codemirror_mode": {
    "name": "ipython",
    "version": 3
   },
   "file_extension": ".py",
   "mimetype": "text/x-python",
   "name": "python",
   "nbconvert_exporter": "python",
   "pygments_lexer": "ipython3",
   "version": "3.10.12"
  }
 },
 "nbformat": 4,
 "nbformat_minor": 2
}
