{
 "cells": [
  {
   "cell_type": "markdown",
   "metadata": {
    "slideshow": {
     "slide_type": "slide"
    }
   },
   "source": [
    "# MAC0317/MAC5920\n",
    "## Introdução ao Processamento de Sinais Digitais\n",
    "### Seção 2.3: Um exemplo motivacional"
   ]
  },
  {
   "cell_type": "code",
   "execution_count": null,
   "metadata": {
    "slideshow": {
     "slide_type": "skip"
    }
   },
   "outputs": [],
   "source": [
    "import math as m\n",
    "import numpy as np\n",
    "import matplotlib.pyplot as plt\n",
    "from IPython.display import Math"
   ]
  },
  {
   "cell_type": "markdown",
   "metadata": {
    "slideshow": {
     "slide_type": "slide"
    }
   },
   "source": [
    "### Figura 2.2 - Um sinal simples no domínio do tempo\n",
    "Considere o sinal $x(t)=2\\cos(2\\pi 5t)+0.8\\sin(2\\pi 12 t)+0.3\\cos(2\\pi 47t)$\n",
    "amostrado no intervalo $t\\in[0,1)$ usando $N=128$ amostras $\\left(t=0,\\frac{1}{128},\\frac{2}{128},\\ldots,\\frac{127}{128}\\right)$."
   ]
  },
  {
   "cell_type": "code",
   "execution_count": null,
   "metadata": {
    "slideshow": {
     "slide_type": "fragment"
    }
   },
   "outputs": [],
   "source": [
    "T = 1; N = 128; t = np.arange(0, T, 1/N); plt.figure(figsize=(15,5))\n",
    "x = 2*np.cos(2*m.pi*5*t) + 0.8*np.sin(2*m.pi*12*t) + 0.3*np.cos(2*m.pi*47*t)\n",
    "plt.plot(t,x); plt.xlabel(\"t\"); plt.ylabel(\"x(t)\");plt.show()\n",
    "print(\"Primeiras 10 amostras do sinal: x[0:10]={}...\".format(np.round(x[0:10],3)))"
   ]
  },
  {
   "cell_type": "markdown",
   "metadata": {
    "slideshow": {
     "slide_type": "slide"
    }
   },
   "source": [
    "### Decomposição do sinal em formas básicas $E_k$\n",
    "\n",
    "$$x=\\sum_{k=0}^{N-1}c_kE_k \\implies c_k = \\frac{(x,E_k)}{N} = \\frac{1}{N}\\sum_{n=0}^{N-1}x_ne^{-i2\\pi k\\frac{n}{N}}$$"
   ]
  },
  {
   "cell_type": "code",
   "execution_count": null,
   "metadata": {
    "slideshow": {
     "slide_type": "subslide"
    }
   },
   "outputs": [],
   "source": [
    "X = np.fft.fft(x) # a FFT calcula X[k] = (x,E_k)\n",
    "c = X / N\n",
    "print(np.round(c,2))"
   ]
  },
  {
   "cell_type": "markdown",
   "metadata": {
    "slideshow": {
     "slide_type": "subslide"
    }
   },
   "source": [
    "### Coeficientes não-nulos de $c$ e reconstrução de $x$"
   ]
  },
  {
   "cell_type": "code",
   "execution_count": null,
   "metadata": {
    "slideshow": {
     "slide_type": "fragment"
    }
   },
   "outputs": [],
   "source": [
    "eps = 1e-8\n",
    "form = r\"x = \"\n",
    "for (k,), ck in np.ndenumerate(c):\n",
    "    if abs(ck) > eps:\n",
    "        print (\"c({0}) = {1:.2f}\".format(k,ck)) \n",
    "        form += r\"+c_{{{0}}}E_{{{0}}}\".format(k)\n",
    "display(Math(form))"
   ]
  },
  {
   "cell_type": "markdown",
   "metadata": {
    "slideshow": {
     "slide_type": "subslide"
    }
   },
   "source": [
    "Observe que\n",
    "$$\\begin{array}{ll}\n",
    "x&=E_5-0.4iE_{12}+0.15E_{47}+0.15E_{81}+0.4iE_{116}+E_{123}\\\\\n",
    "&=E_5-0.4iE_{12}+0.15E_{47}+0.15E_{-47}+0.4iE_{-12}+E_{-5}\\\\\n",
    "&=(E_5+E_{-5})-0.4i(E_{12}-E_{-12})+0.15(E_{47}+E_{-47})\\end{array}$$\n",
    "ou equivalentemente\n",
    "\n",
    "$$\\begin{array}{lll}\n",
    "x_n &= &(e^{i2\\pi 5\\frac{n}{N}}+e^{-i2\\pi 5\\frac{n}{N}})\\\\\n",
    "&&-0.4i(e^{i2\\pi 12\\frac{n}{N}}-e^{-i2\\pi 12\\frac{n}{N}})\\\\\n",
    "&&+0.15(e^{i2\\pi 47\\frac{n}{N}}+e^{-i2\\pi 47\\frac{n}{N}})\\\\\n",
    "&=&2\\cos(2\\pi 5\\frac{n}{N})-0.4i(2i\\sin(2\\pi 12\\frac{n}{N}))+0.15(2\\cos(2\\pi 47\\frac{n}{N}))\\\\\n",
    "&=&2\\cos(2\\pi 5\\frac{n}{N})+0.8\\sin(2\\pi 12\\frac{n}{N})+0.3\\cos(2\\pi 47\\frac{n}{N})\n",
    "\\end{array}$$"
   ]
  },
  {
   "cell_type": "markdown",
   "metadata": {
    "slideshow": {
     "slide_type": "slide"
    }
   },
   "source": [
    "### Energia em cada componente\n",
    "$$\\begin{array}{ll}\n",
    "\\|x\\|^2&=(x,x)\\\\&=\\displaystyle\\left(\\sum_{k=0}^{N-1}c_kE_k,\\sum_{l=0}^{N-1}c_lE_l\\right)\\\\\n",
    "&=\\displaystyle\\sum_{k,l}c_k\\overline{c_l}(E_k,E_l)\\\\\n",
    "&=\\displaystyle\\sum_{k=0}^{N-1}|c_k|^2(E_k,E_k)=\\sum_{k=0}^{N-1}N|c_k|^2\\end{array}$$"
   ]
  },
  {
   "cell_type": "code",
   "execution_count": null,
   "metadata": {
    "slideshow": {
     "slide_type": "subslide"
    }
   },
   "outputs": [],
   "source": [
    "print(\"E(x)\\t=\\t{0:.2f}\".format(np.linalg.norm(x)**2))\n",
    "print(\"--------------------------\")\n",
    "E = N * abs(c)**2\n",
    "for (k,), Ek in np.ndenumerate(E):\n",
    "    if abs(Ek) > eps: print(\"E({0})\\t=\\t{1:.2f}\".format(k,Ek))\n",
    "print(\"--------------------------\")\n",
    "print(\"E(c)\\t=\\t{0:.2f}\".format(sum(E)))"
   ]
  },
  {
   "cell_type": "code",
   "execution_count": null,
   "metadata": {
    "slideshow": {
     "slide_type": "slide"
    }
   },
   "outputs": [],
   "source": [
    "plt.figure(figsize=(15,5))\n",
    "plt.plot(np.arange(N) - N/2, np.roll(E, int(N/2)))\n",
    "plt.xlabel(\"k\"); plt.ylabel(\"E(k)\")\n",
    "plt.title(\"Figura 2.3: Espectro de energia centralizado na frequência 0\")\n",
    "plt.show()"
   ]
  },
  {
   "cell_type": "code",
   "execution_count": null,
   "metadata": {
    "slideshow": {
     "slide_type": "subslide"
    }
   },
   "outputs": [],
   "source": [
    "plt.figure(figsize=(15,5))\n",
    "plt.plot(E); plt.xlabel(\"k\"); plt.ylabel(\"E(k)\")\n",
    "plt.title(\"Figura 2.4: Espectro de energia no intervalo [0, N-1]\")\n",
    "plt.show()"
   ]
  },
  {
   "cell_type": "code",
   "execution_count": null,
   "metadata": {
    "slideshow": {
     "slide_type": "subslide"
    }
   },
   "outputs": [],
   "source": [
    "plt.figure(figsize=(15,5))\n",
    "E[1:int(N/2)-1:1] *= 2\n",
    "plt.plot(E[0:int(N/2)]); plt.xlabel(\"k\"); plt.ylabel(\"E(k)+E(-k)\")\n",
    "plt.title(r\"Figura 2.5 - Espectro de energia com pares de frequências $\\pm k$ somadas\")\n",
    "plt.show()"
   ]
  },
  {
   "cell_type": "markdown",
   "metadata": {
    "slideshow": {
     "slide_type": "slide"
    }
   },
   "source": [
    "### Removendo ruído associado a altas frequências\n",
    "\n",
    "Uma técnica simples de *suavização* ou *remoção de ruído* de sinais consiste em manipular o espectro do sinal, removendo componentes senoidais/exponenciais de alta frequência (índices acima de um certo $k_0$):\n",
    "\n",
    "$$\\begin{array}{l}\n",
    "x\\longrightarrow X=DFT(x)\\\\\n",
    "X\\longrightarrow\\quad \\tilde{X}_k = \\left\\{\\begin{array}{ll}X_k&|k|<k_0\\\\0&|k|\\ge k_0\\end{array}\\right.\\\\ \\tilde{X}\\longrightarrow\\quad\\tilde{x}=IDFT(\\tilde{X})\n",
    "\\end{array}$$"
   ]
  },
  {
   "cell_type": "markdown",
   "metadata": {
    "slideshow": {
     "slide_type": "subslide"
    }
   },
   "source": [
    "Observe que usamos $|k|$ para separar as altas das baixas frequências. Isso pressupõe que consideraremos o intervalo de frequências $\\left(-\\frac{N}{2},+\\frac{N}{2}\\right]$ (ou $k=-63,\\ldots,64$ no exemplo anterior). Se o intervalo de representação de frequências adotado fosse $[0,N)$ ($k=0,\\ldots,127$ no exemplo anterior), então as \"altas frequências\" estariam na porção central do vetor, ou seja, no intervalo $k_0,\\ldots,N-k_0$"
   ]
  },
  {
   "cell_type": "code",
   "execution_count": null,
   "metadata": {
    "slideshow": {
     "slide_type": "subslide"
    }
   },
   "outputs": [],
   "source": [
    "# Elimina \"altas frequências\", acima de k0=40 nesse exemplo\n",
    "# (observe que k=40 ciclos por N amostras equivale a 40 Hz nesse exemplo,\n",
    "# porque N amostras aqui corresponde a 1 segundo do sinal original)\n",
    "Y = X; k0 = 40\n",
    "Y[k0:N-k0:1] *= 0\n",
    "y = np.real(np.fft.ifft(Y))\n",
    "f, ax = plt.subplots(1,2,figsize=(15,5))\n",
    "ax[0].set_title(\"Sinal original\");ax[0].plot(t,x)\n",
    "ax[1].set_title(\"Sinal filtrado\");ax[1].plot(t,y)\n",
    "f.suptitle(\"Figura 2.6 - Sinal ruidoso e sinal filtrado (frequência de corte=40Hz)\")\n",
    "plt.show()"
   ]
  }
 ],
 "metadata": {
  "celltoolbar": "Slideshow",
  "kernelspec": {
   "display_name": "Python 3 (ipykernel)",
   "language": "python",
   "name": "python3"
  },
  "language_info": {
   "codemirror_mode": {
    "name": "ipython",
    "version": 3
   },
   "file_extension": ".py",
   "mimetype": "text/x-python",
   "name": "python",
   "nbconvert_exporter": "python",
   "pygments_lexer": "ipython3",
   "version": "3.7.6"
  }
 },
 "nbformat": 4,
 "nbformat_minor": 2
}
