{
 "cells": [
  {
   "cell_type": "markdown",
   "metadata": {
    "slideshow": {
     "slide_type": "slide"
    }
   },
   "source": [
    "# MAC0317/MAC5920\n",
    "## Introdução ao Processamento de Sinais Digitais\n",
    "### Seção 3.7: Transformada DCT em blocos"
   ]
  },
  {
   "cell_type": "code",
   "execution_count": null,
   "metadata": {
    "slideshow": {
     "slide_type": "skip"
    }
   },
   "outputs": [],
   "source": [
    "import numpy as np\n",
    "import scipy.fftpack as spfft\n",
    "from imageio import imread\n",
    "import matplotlib.pyplot as plt\n",
    "from urllib.request import urlopen"
   ]
  },
  {
   "cell_type": "markdown",
   "metadata": {
    "slideshow": {
     "slide_type": "slide"
    }
   },
   "source": [
    "### Transformadas em Bloco $8\\times 8$\n",
    "\n",
    "Dada uma matriz $A\\in\\mathcal{M}_{m,n}(\\mathbb{C})$ onde $m$ e $n$ são múltiplos de 8, consideramos uma subdivisão em blocos $8\\times 8$, ou seja, definimos submatrizes $B^{(i,j)}\\in\\mathcal{M}_{8,8}(\\mathbb{C})$ onde\n",
    "\n",
    "\\begin{equation*}\n",
    "\tA = \\begin{pmatrix}\n",
    "\t\tB^{(0,0)} & B^{(0,1)} & \\dots &  B^{(0,q-1)} \\\\\n",
    "\t\tB^{(1,0)} & B^{(1,1)} & \\dots &  B^{(1,q-1)} \\\\\n",
    "\t\t\\vdots & \\vdots & \\ddots & \\vdots \\\\\n",
    "\t\tB^{(p-1,0)} & \\dots & \\dots & B^{(p-1,q-1)}\n",
    "\t\\end{pmatrix}\n",
    "\\end{equation*}"
   ]
  },
  {
   "cell_type": "markdown",
   "metadata": {
    "slideshow": {
     "slide_type": "subslide"
    }
   },
   "source": [
    "e\n",
    "\\begin{equation*}\n",
    "    B^{(i,j)} = \\begin{pmatrix}\n",
    "\t\tA_{8i,8j} & \\dots & A_{8i, (8j+7)} \\\\\n",
    "\t\t\\vdots & \\ddots & \\vdots \\\\\n",
    "\t\tA_{(8i+7),8j} & \\dots & A_{(8i+7), (8j+7)}\n",
    "\t\\end{pmatrix}\n",
    "\\end{equation*}"
   ]
  },
  {
   "cell_type": "markdown",
   "metadata": {
    "slideshow": {
     "slide_type": "subslide"
    }
   },
   "source": [
    "Em seguida definimos $\\hat{B} = \\text{DCT_BLK}(A)$ onde\n",
    "\\begin{equation*}\n",
    "\t\\hat{B} = \\begin{pmatrix}\n",
    "\t\t\\hat{B}^{(0,0)} & \\hat{B}^{(0,1)} & \\dots &  \\hat{B}^{(0,q-1)} \\\\\n",
    "\t\t\\hat{B}^{(1,0)} & \\hat{B}^{(1,1)} & \\dots &  \\hat{B}^{(1,q-1)} \\\\\n",
    "\t\t\\vdots & \\vdots & \\ddots & \\vdots \\\\\n",
    "\t\t\\hat{B}^{(p-1,0)} & \\dots & \\dots & \\hat{B}^{(p-1,q-1)}\n",
    "\t\\end{pmatrix}\n",
    "\\end{equation*}\n",
    "e cada $\\hat{B}^{(i,j)} = DCT(B^{(i,j)})$, que também é um bloco de $8\\times 8$."
   ]
  },
  {
   "cell_type": "code",
   "execution_count": null,
   "metadata": {
    "slideshow": {
     "slide_type": "skip"
    }
   },
   "outputs": [],
   "source": [
    "# função auxiliar: converte imagem colorida para cinza\n",
    "def rgb2gray(rgb):\n",
    "    fil = [0.299, 0.587, 0.144]\n",
    "    return np.dot(rgb, fil)\n",
    "# Carrega a imagem da internet e converte para nível de cinza\n",
    "url = \"http://sutherncharm.files.wordpress.com/2009/09/double-ferris.jpg\"\n",
    "M = rgb2gray(imread(urlopen(url).read()))\n",
    "My, Mx = M.shape\n",
    "# Recorta a figura um pouco para obter divisibilidade por unidades de 8x8 pixels\n",
    "blksize = 8\n",
    "new_My = My - My % blksize\n",
    "new_Mx = Mx - Mx % blksize\n",
    "M=M[:new_My, :new_Mx]\n",
    "My,Mx = M.shape"
   ]
  },
  {
   "cell_type": "code",
   "execution_count": null,
   "metadata": {
    "slideshow": {
     "slide_type": "subslide"
    }
   },
   "outputs": [],
   "source": [
    "# calcula a DCT 2D fazendo a DCT 1D das colunas e depois das linhas\n",
    "def dct_2d(m):\n",
    "    D1 = spfft.dct(m.T, norm='ortho')\n",
    "    D2 = spfft.dct(D1.T, norm='ortho')\n",
    "    return D2\n",
    "# calcula a DCT da imagem\n",
    "N = dct_2d(M)\n",
    "# mapeia os valores para log\n",
    "Nlog = np.log(1 + abs(N))"
   ]
  },
  {
   "cell_type": "code",
   "execution_count": null,
   "metadata": {
    "slideshow": {
     "slide_type": "subslide"
    }
   },
   "outputs": [],
   "source": [
    "# calcula a DCT por blocos de 8x8 (blksize=8)\n",
    "NBAK = np.empty(N.shape)\n",
    "\n",
    "for j in range(0, My, blksize):\n",
    "    for k in range(0, Mx, blksize):\n",
    "        Mdiv = M[j : j+blksize, k : k+blksize]\n",
    "        Ndiv = dct_2d(Mdiv)\n",
    "        NBAK[j : j+blksize, k : k+blksize] = Ndiv\n",
    "\n",
    "NBAKlog = np.log(1 + abs(NBAK))"
   ]
  },
  {
   "cell_type": "code",
   "execution_count": null,
   "metadata": {
    "slideshow": {
     "slide_type": "subslide"
    }
   },
   "outputs": [],
   "source": [
    "fig, ax = plt.subplots(1,3, figsize=(15,6))\n",
    "ax[0].imshow(M, cmap='gray');ax[0].axis(\"off\")\n",
    "ax[0].set_title(\"Imagem original\")\n",
    "ax[1].imshow(Nlog / np.amax(Nlog), cmap='gray');ax[1].axis(\"off\")\n",
    "ax[1].set_title(\"DCT bidimensional\")\n",
    "ax[2].imshow(NBAKlog / np.amax(Nlog), cmap='gray');ax[2].axis(\"off\")\n",
    "ax[2].set_title(\"DCT em blocos de 8x8 pixels\")\n",
    "fig.suptitle(\"Figura 3.12: Imagem original, DCT e DCT em blocos de 8x8 pixels\");plt.show()"
   ]
  },
  {
   "cell_type": "markdown",
   "metadata": {
    "slideshow": {
     "slide_type": "subslide"
    }
   },
   "source": [
    "**Observação:** Na DCT em blocos é possível perceber uma espécie de silhueta da figura original: isso se deve principalmente porque cada bloco $8\\times 8$ contém as componentes dc, que refletem o nível médio de amplitude do trecho correspondente da imagem."
   ]
  },
  {
   "cell_type": "code",
   "execution_count": null,
   "metadata": {
    "slideshow": {
     "slide_type": "fragment"
    }
   },
   "outputs": [],
   "source": [
    "plt.figure(figsize=(10,8));plt.axis(\"off\")\n",
    "plt.imshow(np.log(1+abs(NBAK[0:400,300:600]))/np.amax(Nlog), cmap='gray')\n",
    "plt.title(\"Detalhe da roda gigante superior na DCT em blocos de 8x8 pixels\")\n",
    "plt.show()"
   ]
  },
  {
   "cell_type": "markdown",
   "metadata": {
    "slideshow": {
     "slide_type": "slide"
    }
   },
   "source": [
    "### DCT em blocos agrupados por frequência\n",
    "\n",
    "Outra organização possível da DCT em blocos é agrupar os coeficientes de todos os blocos por pares de frequência $k,l=0,1,\\ldots,7$. Nesse caso, a matriz resultante possui 64 blocos $\\tilde{B}^{(k,l)}$ de tamanho $\\frac{m}{8}\\times\\frac{n}{8}$:\n",
    "\n",
    "\\begin{equation*}\n",
    "\t\\tilde{B} = \\begin{pmatrix}\n",
    "\t\t\\tilde{B}^{(0,0)} & \\tilde{B}^{(0,1)} & \\dots &  \\tilde{B}^{(0,7)} \\\\\n",
    "\t\t\\tilde{B}^{(1,0)} & \\tilde{B}^{(1,1)} & \\dots &  \\tilde{B}^{(1,7)} \\\\\n",
    "\t\t\\vdots & \\vdots & \\ddots & \\vdots \\\\\n",
    "\t\t\\tilde{B}^{(7,0)} & \\dots & \\dots & \\tilde{B}^{(7,7)}\n",
    "\t\\end{pmatrix}\n",
    "\\end{equation*}\n",
    "onde\n",
    "$$\\left(\\tilde{B}^{(k,l)}\\right)_{i,j} = \\left(\\hat{B}^{(i,j)}\\right)_{k,l}.$$"
   ]
  },
  {
   "cell_type": "code",
   "execution_count": null,
   "metadata": {
    "slideshow": {
     "slide_type": "skip"
    }
   },
   "outputs": [],
   "source": [
    "# Reordena a DCT em blocos para juntar os coeficientes correspondentes a uma mesma frequência (j,k)\n",
    "NOVO = np.empty(NBAK.shape)\n",
    "Ny,Nx = NOVO.shape\n",
    "by = Ny // blksize\n",
    "bx = Nx // blksize\n",
    "\n",
    "for j in range(blksize):\n",
    "    for k in range(blksize):\n",
    "        NOVO[ j*by : (j+1)*by , k*bx : (k+1)*bx ] = NBAK[j:Ny:blksize, k:Nx:blksize]\n",
    "\n",
    "NOVOlog = np.log(1 + abs(NOVO))"
   ]
  },
  {
   "cell_type": "code",
   "execution_count": null,
   "metadata": {
    "slideshow": {
     "slide_type": "subslide"
    }
   },
   "outputs": [],
   "source": [
    "fig, ax = plt.subplots(1,2, figsize=(10,6))\n",
    "ax[0].imshow(NOVOlog / np.amax(Nlog), cmap='gray')\n",
    "ax[0].set_title(\"DCT em Blocos Reagrupados por frequência\")\n",
    "ax[1].imshow(np.log(1 + abs( NOVO[0:Ny//blksize, 0:Nx//blksize] )) / np.amax(Nlog), cmap='gray')\n",
    "ax[1].set_title(\"Detalhe da componente DC ($k=l=0$)\")\n",
    "fig.suptitle(\"Figura 3.13: DCT em blocos reagrupados por frequência e Componentes DC\")\n",
    "plt.show()"
   ]
  }
 ],
 "metadata": {
  "celltoolbar": "Slideshow",
  "kernelspec": {
   "display_name": "Python 3",
   "language": "python",
   "name": "python3"
  },
  "language_info": {
   "codemirror_mode": {
    "name": "ipython",
    "version": 3
   },
   "file_extension": ".py",
   "mimetype": "text/x-python",
   "name": "python",
   "nbconvert_exporter": "python",
   "pygments_lexer": "ipython3",
   "version": "3.7.11"
  }
 },
 "nbformat": 4,
 "nbformat_minor": 2
}
